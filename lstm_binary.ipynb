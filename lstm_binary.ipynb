{
 "cells": [
  {
   "cell_type": "code",
   "execution_count": 7,
   "id": "a7d38517-ada9-4193-a3da-a358821c70ed",
   "metadata": {},
   "outputs": [],
   "source": [
    "import numpy as np\n",
    "import pandas as pd\n",
    "import os, re, time\n",
    "import matplotlib.pyplot as plt\n",
    "\n",
    "from sklearn.model_selection import train_test_split\n",
    "from sklearn import preprocessing\n",
    "\n",
    "import tensorflow as tf\n",
    "from tensorflow import keras"
   ]
  },
  {
   "cell_type": "code",
   "execution_count": 37,
   "id": "1fe8a503-b191-4cf9-b3fa-9cdf7b88e4f1",
   "metadata": {},
   "outputs": [],
   "source": [
    "from keras import layers\n",
    "from keras.callbacks import TensorBoard\n",
    "\n",
    "from keras.models import Sequential, Model\n",
    "\n",
    "from keras.layers import LSTM, Dense, Dropout, Embedding, Input, Activation, GRU, Convolution1D, Flatten, LeakyReLU\n",
    "from keras.layers import Bidirectional, GlobalMaxPool1D, GlobalAveragePooling1D, MaxPooling1D, GlobalMaxPooling1D\n",
    "from keras.layers import SpatialDropout1D, MaxPooling1D, Bidirectional, GRU, concatenate\n",
    "\n",
    "from keras.preprocessing import sequence\n",
    "from keras.preprocessing.text import Tokenizer\n",
    "\n",
    "from keras.utils import pad_sequences\n",
    "\n",
    "from collections import OrderedDict\n",
    "\n",
    "from keras.callbacks import EarlyStopping, ModelCheckpoint\n",
    "\n",
    "from tensorflow.keras.layers.experimental.preprocessing import TextVectorization"
   ]
  },
  {
   "cell_type": "code",
   "execution_count": 9,
   "id": "4c3710b0-c15d-4499-b4e2-07bb3e233698",
   "metadata": {},
   "outputs": [],
   "source": [
    "import warnings\n",
    "warnings.filterwarnings(\"ignore\", category=FutureWarning)\n",
    "warnings.filterwarnings(\"ignore\", category=DeprecationWarning)"
   ]
  },
  {
   "cell_type": "code",
   "execution_count": 10,
   "id": "ee7e591a-639d-4b37-856f-e46a27232ae6",
   "metadata": {},
   "outputs": [
    {
     "name": "stdout",
     "output_type": "stream",
     "text": [
      "8\n"
     ]
    }
   ],
   "source": [
    "from multiprocessing import cpu_count\n",
    "print(cpu_count())"
   ]
  },
  {
   "cell_type": "code",
   "execution_count": 15,
   "id": "0795088a-7139-4b52-80ac-86e962cf62fd",
   "metadata": {},
   "outputs": [],
   "source": [
    "!mkdir -p /home/jupyter/data/wordvec/"
   ]
  },
  {
   "cell_type": "code",
   "execution_count": 42,
   "id": "b68e0ba5-1526-4a2d-823b-acf61c8b05a0",
   "metadata": {},
   "outputs": [],
   "source": [
    "mob = pd.read_csv(\"mobile_sent.csv\")"
   ]
  },
  {
   "cell_type": "code",
   "execution_count": 43,
   "id": "00b44461-0d15-4b1c-bcb6-40b064680eb5",
   "metadata": {},
   "outputs": [
    {
     "data": {
      "text/plain": [
       "1    52197\n",
       "0    17572\n",
       "Name: sentiment, dtype: int64"
      ]
     },
     "execution_count": 43,
     "metadata": {},
     "output_type": "execute_result"
    }
   ],
   "source": [
    "mob['sentiment'].value_counts()"
   ]
  },
  {
   "cell_type": "code",
   "execution_count": 44,
   "id": "f838f12b-0d90-4a3f-adb5-cf1c71eb4f1d",
   "metadata": {},
   "outputs": [
    {
     "data": {
      "text/plain": [
       "(69769, 2)"
      ]
     },
     "execution_count": 44,
     "metadata": {},
     "output_type": "execute_result"
    }
   ],
   "source": [
    "mob.shape"
   ]
  },
  {
   "cell_type": "code",
   "execution_count": 45,
   "id": "5d72492c-e5f4-4591-b286-1726c0d78c22",
   "metadata": {},
   "outputs": [],
   "source": [
    "#Column with clean text\n",
    "textVar = mob[\"text\"]\n",
    "\n",
    "#Target columns (sentiment, class, etc.)\n",
    "targetVar = mob[\"sentiment\"]"
   ]
  },
  {
   "cell_type": "code",
   "execution_count": 46,
   "id": "133143d9-d06e-47bd-a14b-90f8ffc15b00",
   "metadata": {},
   "outputs": [
    {
     "data": {
      "image/png": "[encoded data removed]",
      "text/plain": [
       "<Figure size 640x480 with 1 Axes>"
      ]
     },
     "metadata": {},
     "output_type": "display_data"
    }
   ],
   "source": [
    "countClasses = pd.value_counts(targetVar.values, sort=True)\n",
    "countClasses.plot.bar(legend=None, title=\"Target Class Distribution\")\n",
    "plt.show()"
   ]
  },
  {
   "cell_type": "code",
   "execution_count": 47,
   "id": "f346d9bb-8bca-49ec-ba93-35f4c343ee26",
   "metadata": {},
   "outputs": [],
   "source": [
    "# make our experiments repeatable\n",
    "np.random.seed(0)\n",
    "\n",
    "# Model Hyperparameters\n",
    "embedding_dim = 100\n",
    "\n",
    "# Here we specify the number of units of our RNN layer\n",
    "lstm_dims = 196\n",
    "\n",
    "# Training parameters. Here we specify the training of the net will use N examples for each backprop iteration\n",
    "batch_size = 64\n",
    "\n",
    "# We will go thru the entire data set N times\n",
    "num_epochs = 5\n",
    "\n",
    "# Prepossessing parameters\n",
    "# We will only input the first \"sequence_length\" words of every Yelp review (and pad out with nulls if the text is < \"sequence_length\n",
    "# We will also build our model using the most frequent 20000 words in our tweet 'dictionary'\n",
    "sequence_length = 200\n",
    "max_features = 20000\n",
    "\n",
    "#Specify the number of classes to predict (1 for binary classification or count unique values for multilabel classification)\n",
    "num_classes = 1\n",
    "#num_classes = targetVar.nunique()"
   ]
  },
  {
   "cell_type": "code",
   "execution_count": 48,
   "id": "53e6d3b5-2ec5-47b1-a17a-f14310e7609e",
   "metadata": {},
   "outputs": [],
   "source": [
    "encoder = preprocessing.LabelEncoder()\n",
    "encoder.fit(targetVar)\n",
    "\n",
    "X = textVar.values\n",
    "Y = encoder.transform(targetVar)"
   ]
  },
  {
   "cell_type": "code",
   "execution_count": 49,
   "id": "1cb338d8-5c43-4d2d-b560-3e13f6304af3",
   "metadata": {},
   "outputs": [],
   "source": [
    "train_samples, val_samples, train_labels, val_labels = train_test_split(X,Y, stratify=targetVar, test_size = 0.33, random_state = 0)"
   ]
  },
  {
   "cell_type": "code",
   "execution_count": 50,
   "id": "85e86ea4-3f7c-4257-916a-955b3bcadffe",
   "metadata": {},
   "outputs": [
    {
     "name": "stdout",
     "output_type": "stream",
     "text": [
      "(46745,) (46745,)\n",
      "(23024,) (23024,)\n"
     ]
    }
   ],
   "source": [
    "# Check how many columns we have, make sure we have our sequence length set correctly\n",
    "\n",
    "print(train_samples.shape,train_labels.shape)\n",
    "print(val_samples.shape,val_labels.shape)"
   ]
  },
  {
   "cell_type": "code",
   "execution_count": 51,
   "id": "ca6fb26f-28bb-48ee-84bf-e9ac9879f55b",
   "metadata": {},
   "outputs": [],
   "source": [
    "vectorizer = TextVectorization(max_tokens=max_features, output_sequence_length=sequence_length, ngrams=None, pad_to_max_tokens=True)\n",
    "\n",
    "text_ds = tf.data.Dataset.from_tensor_slices(train_samples).batch(128)\n",
    "vectorizer.adapt(text_ds)"
   ]
  },
  {
   "cell_type": "code",
   "execution_count": 52,
   "id": "4eb2436f-c4eb-4e4c-8442-5a80cb23fcad",
   "metadata": {},
   "outputs": [
    {
     "data": {
      "text/plain": [
       "['', '[UNK]', 'the', 'i', 'it']"
      ]
     },
     "execution_count": 52,
     "metadata": {},
     "output_type": "execute_result"
    }
   ],
   "source": [
    "vectorizer.get_vocabulary()[:5]"
   ]
  },
  {
   "cell_type": "code",
   "execution_count": 53,
   "id": "42fabe04-301a-4391-bd95-cf3a7c4551af",
   "metadata": {},
   "outputs": [],
   "source": [
    "X_train = vectorizer(np.array([[s] for s in train_samples])).numpy()\n",
    "X_test = vectorizer(np.array([[s] for s in val_samples])).numpy()\n",
    "\n",
    "Y_train = np.array(train_labels)\n",
    "Y_test = np.array(val_labels)"
   ]
  },
  {
   "cell_type": "markdown",
   "id": "f129ade0-fc38-45e0-b6a7-24a1d5710d48",
   "metadata": {},
   "source": [
    "#### Embeddings"
   ]
  },
  {
   "cell_type": "code",
   "execution_count": 54,
   "id": "1e02f881-1905-4c6b-986b-3f45c769e843",
   "metadata": {},
   "outputs": [
    {
     "name": "stdout",
     "output_type": "stream",
     "text": [
      "Found 400000 word vectors.\n"
     ]
    }
   ],
   "source": [
    "embeddings_index = {}\n",
    "\n",
    "glove_dir = '/home/jupyter/data/wordvec/'\n",
    "f = open(os.path.join(glove_dir, 'glove.6B.100d.txt'), encoding=\"utf8\")\n",
    "\n",
    "for line in f:\n",
    "    values = line.split()\n",
    "    word = values[0]\n",
    "    coefs = np.asarray(values[1:], dtype='float32')\n",
    "    embeddings_index[word] = coefs\n",
    "f.close()\n",
    "\n",
    "print('Found %s word vectors.' % len(embeddings_index))"
   ]
  },
  {
   "cell_type": "code",
   "execution_count": 55,
   "id": "cfb8dae8-1bf0-45d2-ba2f-52658bbf72fa",
   "metadata": {},
   "outputs": [],
   "source": [
    "voc = vectorizer.get_vocabulary()\n",
    "word_index = dict(zip(voc, range(len(voc))))"
   ]
  },
  {
   "cell_type": "code",
   "execution_count": 56,
   "id": "1f10c02e-c659-49c1-adf4-77644b4ebc7b",
   "metadata": {},
   "outputs": [
    {
     "name": "stdout",
     "output_type": "stream",
     "text": [
      "Converted 15211 words (4789 misses)\n"
     ]
    }
   ],
   "source": [
    "num_tokens = len(voc) + 2\n",
    "hits = 0\n",
    "misses = 0\n",
    "\n",
    "# Prepare embedding matrix\n",
    "embedding_matrix = np.zeros((num_tokens, embedding_dim))\n",
    "for word, i in word_index.items():\n",
    "    embedding_vector = embeddings_index.get(word)\n",
    "    if embedding_vector is not None:\n",
    "        # Words not found in embedding index will be all-zeros.\n",
    "        # This includes the representation for \"padding\" and \"OOV\"\n",
    "        embedding_matrix[i] = embedding_vector\n",
    "        hits += 1\n",
    "    else:\n",
    "        misses += 1\n",
    "print(\"Converted %d words (%d misses)\" % (hits, misses))"
   ]
  },
  {
   "cell_type": "code",
   "execution_count": 57,
   "id": "6ce6d3ed-6792-4c67-852b-ee82683158ce",
   "metadata": {},
   "outputs": [],
   "source": [
    "embedding_layer = Embedding(\n",
    "    num_tokens,\n",
    "    embedding_dim,\n",
    "    embeddings_initializer=keras.initializers.Constant(embedding_matrix),\n",
    "    trainable=False,\n",
    ")"
   ]
  },
  {
   "cell_type": "markdown",
   "id": "b3e15129-a8f3-4657-8fd8-22d9849e96b6",
   "metadata": {},
   "source": [
    "#### Model"
   ]
  },
  {
   "cell_type": "code",
   "execution_count": 58,
   "id": "c86bf5d8-1a78-4ae8-9389-8fb9352db37a",
   "metadata": {},
   "outputs": [
    {
     "name": "stdout",
     "output_type": "stream",
     "text": [
      "Model: \"model\"\n",
      "_________________________________________________________________\n",
      " Layer (type)                Output Shape              Param #   \n",
      "=================================================================\n",
      " input_2 (InputLayer)        [(None, None)]            0         \n",
      "                                                                 \n",
      " embedding_1 (Embedding)     (None, None, 100)         2000200   \n",
      "                                                                 \n",
      " lstm_layer (LSTM)           (None, None, 196)         232848    \n",
      "                                                                 \n",
      " global_max_pooling1d_1 (Glo  (None, 196)              0         \n",
      " balMaxPooling1D)                                                \n",
      "                                                                 \n",
      " dropout_2 (Dropout)         (None, 196)               0         \n",
      "                                                                 \n",
      " dense_2 (Dense)             (None, 50)                9850      \n",
      "                                                                 \n",
      " dropout_3 (Dropout)         (None, 50)                0         \n",
      "                                                                 \n",
      " dense_3 (Dense)             (None, 1)                 51        \n",
      "                                                                 \n",
      "=================================================================\n",
      "Total params: 2,242,949\n",
      "Trainable params: 242,749\n",
      "Non-trainable params: 2,000,200\n",
      "_________________________________________________________________\n",
      "None\n"
     ]
    }
   ],
   "source": [
    "sequence_input = keras.Input(shape=(None,), dtype=\"int64\")\n",
    "embedded_sequences = embedding_layer(sequence_input)\n",
    "\n",
    "x = LSTM(lstm_dims, return_sequences=True,name='lstm_layer')(embedded_sequences)\n",
    "x = GlobalMaxPool1D()(x)\n",
    "x = Dropout(0.1)(x)\n",
    "x = Dense(50, activation=\"relu\")(x)\n",
    "x = Dropout(0.1)(x)\n",
    "preds = Dense(1, activation=\"sigmoid\")(x)\n",
    "\n",
    "\n",
    "model = Model(sequence_input, preds)\n",
    "model.compile(loss = 'binary_crossentropy', optimizer='adam', metrics = ['accuracy'])\n",
    "\n",
    "print(model.summary())"
   ]
  },
  {
   "cell_type": "code",
   "execution_count": 60,
   "id": "b963eb5f-ebfb-4eda-9e19-0515b3535000",
   "metadata": {},
   "outputs": [
    {
     "name": "stdout",
     "output_type": "stream",
     "text": [
      "Epoch 1/5\n"
     ]
    },
    {
     "name": "stderr",
     "output_type": "stream",
     "text": [
      "2023-05-24 23:28:10.549542: I tensorflow/stream_executor/cuda/cuda_dnn.cc:384] Loaded cuDNN version 8200\n"
     ]
    },
    {
     "name": "stdout",
     "output_type": "stream",
     "text": [
      "728/731 [============================>.] - ETA: 0s - loss: 0.1740 - accuracy: 0.9296\n",
      "Epoch 1: val_accuracy improved from -inf to 0.95665, saving model to /home/jupyter/data/dl_models/gru_glove_weights_best\n"
     ]
    },
    {
     "name": "stderr",
     "output_type": "stream",
     "text": [
      "WARNING:absl:Found untraced functions such as lstm_cell_1_layer_call_fn, lstm_cell_1_layer_call_and_return_conditional_losses while saving (showing 2 of 2). These functions will not be directly callable after loading.\n"
     ]
    },
    {
     "name": "stdout",
     "output_type": "stream",
     "text": [
      "INFO:tensorflow:Assets written to: /home/jupyter/data/dl_models/gru_glove_weights_best/assets\n"
     ]
    },
    {
     "name": "stderr",
     "output_type": "stream",
     "text": [
      "INFO:tensorflow:Assets written to: /home/jupyter/data/dl_models/gru_glove_weights_best/assets\n"
     ]
    },
    {
     "name": "stdout",
     "output_type": "stream",
     "text": [
      "731/731 [==============================] - 32s 40ms/step - loss: 0.1740 - accuracy: 0.9297 - val_loss: 0.1126 - val_accuracy: 0.9567\n",
      "Epoch 2/5\n",
      "730/731 [============================>.] - ETA: 0s - loss: 0.0895 - accuracy: 0.9676\n",
      "Epoch 2: val_accuracy improved from 0.95665 to 0.97016, saving model to /home/jupyter/data/dl_models/gru_glove_weights_best\n"
     ]
    },
    {
     "name": "stderr",
     "output_type": "stream",
     "text": [
      "WARNING:absl:Found untraced functions such as lstm_cell_1_layer_call_fn, lstm_cell_1_layer_call_and_return_conditional_losses while saving (showing 2 of 2). These functions will not be directly callable after loading.\n"
     ]
    },
    {
     "name": "stdout",
     "output_type": "stream",
     "text": [
      "INFO:tensorflow:Assets written to: /home/jupyter/data/dl_models/gru_glove_weights_best/assets\n"
     ]
    },
    {
     "name": "stderr",
     "output_type": "stream",
     "text": [
      "INFO:tensorflow:Assets written to: /home/jupyter/data/dl_models/gru_glove_weights_best/assets\n"
     ]
    },
    {
     "name": "stdout",
     "output_type": "stream",
     "text": [
      "731/731 [==============================] - 30s 41ms/step - loss: 0.0894 - accuracy: 0.9676 - val_loss: 0.0795 - val_accuracy: 0.9702\n",
      "Epoch 3/5\n",
      "729/731 [============================>.] - ETA: 0s - loss: 0.0711 - accuracy: 0.9748\n",
      "Epoch 3: val_accuracy improved from 0.97016 to 0.97142, saving model to /home/jupyter/data/dl_models/gru_glove_weights_best\n"
     ]
    },
    {
     "name": "stderr",
     "output_type": "stream",
     "text": [
      "WARNING:absl:Found untraced functions such as lstm_cell_1_layer_call_fn, lstm_cell_1_layer_call_and_return_conditional_losses while saving (showing 2 of 2). These functions will not be directly callable after loading.\n"
     ]
    },
    {
     "name": "stdout",
     "output_type": "stream",
     "text": [
      "INFO:tensorflow:Assets written to: /home/jupyter/data/dl_models/gru_glove_weights_best/assets\n"
     ]
    },
    {
     "name": "stderr",
     "output_type": "stream",
     "text": [
      "INFO:tensorflow:Assets written to: /home/jupyter/data/dl_models/gru_glove_weights_best/assets\n"
     ]
    },
    {
     "name": "stdout",
     "output_type": "stream",
     "text": [
      "731/731 [==============================] - 28s 38ms/step - loss: 0.0711 - accuracy: 0.9748 - val_loss: 0.0756 - val_accuracy: 0.9714\n",
      "Epoch 4/5\n",
      "731/731 [==============================] - ETA: 0s - loss: 0.0584 - accuracy: 0.9790\n",
      "Epoch 4: val_accuracy improved from 0.97142 to 0.97437, saving model to /home/jupyter/data/dl_models/gru_glove_weights_best\n"
     ]
    },
    {
     "name": "stderr",
     "output_type": "stream",
     "text": [
      "WARNING:absl:Found untraced functions such as lstm_cell_1_layer_call_fn, lstm_cell_1_layer_call_and_return_conditional_losses while saving (showing 2 of 2). These functions will not be directly callable after loading.\n"
     ]
    },
    {
     "name": "stdout",
     "output_type": "stream",
     "text": [
      "INFO:tensorflow:Assets written to: /home/jupyter/data/dl_models/gru_glove_weights_best/assets\n"
     ]
    },
    {
     "name": "stderr",
     "output_type": "stream",
     "text": [
      "INFO:tensorflow:Assets written to: /home/jupyter/data/dl_models/gru_glove_weights_best/assets\n"
     ]
    },
    {
     "name": "stdout",
     "output_type": "stream",
     "text": [
      "731/731 [==============================] - 30s 41ms/step - loss: 0.0584 - accuracy: 0.9790 - val_loss: 0.0710 - val_accuracy: 0.9744\n",
      "Epoch 5/5\n",
      "729/731 [============================>.] - ETA: 0s - loss: 0.0480 - accuracy: 0.9831\n",
      "Epoch 5: val_accuracy did not improve from 0.97437\n",
      "731/731 [==============================] - 12s 17ms/step - loss: 0.0480 - accuracy: 0.9831 - val_loss: 0.0766 - val_accuracy: 0.9724\n",
      "GRU Glove model train time = 132 seconds\n"
     ]
    }
   ],
   "source": [
    "filepath=\"/home/jupyter/data/dl_models/gru_glove_weights_best\"\n",
    "\n",
    "checkpoint = ModelCheckpoint(filepath, monitor='val_accuracy',\n",
    "                             verbose=1, save_best_only=True, save_weights_only=False, overwrite=True, mode='max')\n",
    "#only save model if it improves the accuracy\n",
    "\n",
    "callbacks_list = [checkpoint]\n",
    "\n",
    "t1 = time.time()\n",
    "history = model.fit(X_train, Y_train,\n",
    "                    batch_size=batch_size, \n",
    "                    epochs=num_epochs,\n",
    "                    validation_data=(X_test, Y_test),\n",
    "                    callbacks = callbacks_list,\n",
    "                    verbose=1)\n",
    "t2 = time.time()\n",
    "print(\"GRU Glove model train time = %d seconds\" %(t2-t1))\n",
    "\n",
    "GRU_glove_history = history"
   ]
  },
  {
   "cell_type": "code",
   "execution_count": 61,
   "id": "73adba2b-446b-4e1f-9b70-911505fefd2d",
   "metadata": {},
   "outputs": [
    {
     "name": "stdout",
     "output_type": "stream",
     "text": [
      "total 101296\n",
      "drwxr-xr-x 2 jupyter jupyter      4096 May 22 08:09 assets\n",
      "-rw-r--r-- 1 jupyter jupyter 102903236 May 24 23:30 keras_metadata.pb\n",
      "-rw-r--r-- 1 jupyter jupyter    811711 May 24 23:29 saved_model.pb\n",
      "drwxr-xr-x 2 jupyter jupyter      4096 May 24 23:29 variables\n"
     ]
    }
   ],
   "source": [
    "!ls -l \"/home/jupyter/data/dl_models/gru_glove_weights_best\""
   ]
  },
  {
   "cell_type": "code",
   "execution_count": 62,
   "id": "e257aee5-6418-4ab9-b0ad-8145619762a5",
   "metadata": {},
   "outputs": [
    {
     "data": {
      "text/plain": [
       "dict_keys(['loss', 'accuracy', 'val_loss', 'val_accuracy'])"
      ]
     },
     "execution_count": 62,
     "metadata": {},
     "output_type": "execute_result"
    }
   ],
   "source": [
    "history.history.keys()"
   ]
  },
  {
   "cell_type": "code",
   "execution_count": 63,
   "id": "77de8763-393a-482e-831b-29ee8a6b01ed",
   "metadata": {},
   "outputs": [],
   "source": [
    "def plot_train(history):\n",
    "    \"\"\"\n",
    "    Plot the keras epoch results thru training\n",
    "    \"\"\"\n",
    "    h = history.history\n",
    "    epochs = range(1, len(h['accuracy']) + 1)\n",
    "    plt.plot(epochs, h['accuracy'], 'go', label='Training acc')\n",
    "    plt.plot(epochs, h['val_accuracy'], 'g', label='Validation acc')\n",
    "    plt.title('Training and Validation Accuracy')\n",
    "    plt.xlabel('Epochs')\n",
    "    plt.ylabel('Accuracy')\n",
    "    plt.legend()\n",
    "    plt.show()"
   ]
  },
  {
   "cell_type": "code",
   "execution_count": 64,
   "id": "0ca14784-f64b-4917-9872-b29cb3567829",
   "metadata": {},
   "outputs": [
    {
     "data": {
      "image/png": "[encoded data removed]",
      "text/plain": [
       "<Figure size 640x480 with 1 Axes>"
      ]
     },
     "metadata": {},
     "output_type": "display_data"
    }
   ],
   "source": [
    "plot_train(GRU_glove_history)"
   ]
  },
  {
   "cell_type": "code",
   "execution_count": 65,
   "id": "3c74bfed-160d-4302-9a7a-171f7081d999",
   "metadata": {},
   "outputs": [],
   "source": [
    "def plot_loss(history):\n",
    "    \"\"\"\n",
    "    Plot the keras epoch results thru training\n",
    "    \"\"\"\n",
    "    h = history.history\n",
    "    epochs = range(1, len(h['accuracy']) + 1)\n",
    "    plt.plot(epochs, h['loss'], 'bo', label='Training loss')\n",
    "    plt.plot(epochs, h['val_loss'], 'b', label='Validation loss')\n",
    "    plt.title('Training and Validation Loss')\n",
    "    plt.xlabel('Epochs')\n",
    "    plt.ylabel('Loss')\n",
    "    plt.legend()\n",
    "    plt.show()"
   ]
  },
  {
   "cell_type": "code",
   "execution_count": 66,
   "id": "f3cab8a5-2c30-4efc-bab9-67baf104a031",
   "metadata": {},
   "outputs": [
    {
     "data": {
      "image/png": "[encoded data removed]",
      "text/plain": [
       "<Figure size 640x480 with 1 Axes>"
      ]
     },
     "metadata": {},
     "output_type": "display_data"
    }
   ],
   "source": [
    "plot_loss(GRU_glove_history)"
   ]
  }
 ],
 "metadata": {
  "kernelspec": {
   "display_name": "TensorFlow 2 (Local)",
   "language": "python",
   "name": "local-tf2"
  },
  "language_info": {
   "codemirror_mode": {
    "name": "ipython",
    "version": 3
   },
   "file_extension": ".py",
   "mimetype": "text/x-python",
   "name": "python",
   "nbconvert_exporter": "python",
   "pygments_lexer": "ipython3",
   "version": "3.7.12"
  }
 },
 "nbformat": 4,
 "nbformat_minor": 5
}
