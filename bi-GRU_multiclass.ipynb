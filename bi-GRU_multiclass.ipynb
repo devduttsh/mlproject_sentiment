{
 "cells": [
  {
   "cell_type": "code",
   "execution_count": 3,
   "id": "a7d38517-ada9-4193-a3da-a358821c70ed",
   "metadata": {},
   "outputs": [],
   "source": [
    "import numpy as np\n",
    "import pandas as pd\n",
    "import os, re, time\n",
    "import matplotlib.pyplot as plt\n",
    "\n",
    "from sklearn.model_selection import train_test_split\n",
    "from sklearn import preprocessing\n",
    "\n",
    "import tensorflow as tf\n",
    "from tensorflow import keras"
   ]
  },
  {
   "cell_type": "code",
   "execution_count": 4,
   "id": "1fe8a503-b191-4cf9-b3fa-9cdf7b88e4f1",
   "metadata": {},
   "outputs": [],
   "source": [
    "from keras import layers\n",
    "from keras.callbacks import TensorBoard\n",
    "\n",
    "from keras.models import Sequential, Model\n",
    "\n",
    "from keras.layers import LSTM, Dense, Dropout, Embedding, Input, Activation, GRU, Convolution1D, Flatten, LeakyReLU\n",
    "from keras.layers import Bidirectional, GlobalMaxPool1D, GlobalAveragePooling1D, MaxPooling1D, GlobalMaxPooling1D\n",
    "from keras.layers import SpatialDropout1D, MaxPooling1D, Bidirectional, GRU, concatenate\n",
    "\n",
    "from keras.preprocessing import sequence\n",
    "from keras.preprocessing.text import Tokenizer\n",
    "\n",
    "from keras.utils import pad_sequences\n",
    "\n",
    "from collections import OrderedDict\n",
    "\n",
    "from keras.callbacks import EarlyStopping, ModelCheckpoint\n",
    "\n",
    "from tensorflow.keras.layers.experimental.preprocessing import TextVectorization"
   ]
  },
  {
   "cell_type": "code",
   "execution_count": 35,
   "id": "4c3710b0-c15d-4499-b4e2-07bb3e233698",
   "metadata": {},
   "outputs": [],
   "source": [
    "import warnings\n",
    "warnings.filterwarnings(\"ignore\", category=FutureWarning)\n",
    "warnings.filterwarnings(\"ignore\", category=DeprecationWarning)"
   ]
  },
  {
   "cell_type": "code",
   "execution_count": 36,
   "id": "ee7e591a-639d-4b37-856f-e46a27232ae6",
   "metadata": {},
   "outputs": [
    {
     "name": "stdout",
     "output_type": "stream",
     "text": [
      "8\n"
     ]
    }
   ],
   "source": [
    "from multiprocessing import cpu_count\n",
    "print(cpu_count())"
   ]
  },
  {
   "cell_type": "code",
   "execution_count": 37,
   "id": "0795088a-7139-4b52-80ac-86e962cf62fd",
   "metadata": {},
   "outputs": [],
   "source": [
    "!mkdir -p /home/jupyter/data/wordvec/"
   ]
  },
  {
   "cell_type": "code",
   "execution_count": 38,
   "id": "679f51dd-a985-4a66-8f30-b293de25cd07",
   "metadata": {},
   "outputs": [
    {
     "name": "stdout",
     "output_type": "stream",
     "text": [
      "Skipping existing item: file:///home/jupyter/data/wordvec/glove.6B.100d.txt\n"
     ]
    }
   ],
   "source": [
    "!gsutil cp -n 'gs://msca-bdp-data-open/wordvec/glove.6B.100d.txt' '/home/jupyter/data/wordvec/'"
   ]
  },
  {
   "cell_type": "code",
   "execution_count": 39,
   "id": "b68e0ba5-1526-4a2d-823b-acf61c8b05a0",
   "metadata": {},
   "outputs": [],
   "source": [
    "mob_load = pd.read_csv(\"mobile__multi_sent.csv\")"
   ]
  },
  {
   "cell_type": "code",
   "execution_count": 40,
   "id": "00b44461-0d15-4b1c-bcb6-40b064680eb5",
   "metadata": {},
   "outputs": [
    {
     "data": {
      "text/plain": [
       " 1    52197\n",
       " 0    35080\n",
       "-1    17572\n",
       "Name: sentiment, dtype: int64"
      ]
     },
     "execution_count": 40,
     "metadata": {},
     "output_type": "execute_result"
    }
   ],
   "source": [
    "mob_load['sentiment'].value_counts()"
   ]
  },
  {
   "cell_type": "code",
   "execution_count": 41,
   "id": "5d72492c-e5f4-4591-b286-1726c0d78c22",
   "metadata": {},
   "outputs": [],
   "source": [
    "#Column with clean text\n",
    "textVar = mob_load[\"text\"]\n",
    "\n",
    "#Target columns (sentiment, class, etc.)\n",
    "targetVar = mob_load[\"sentiment\"]"
   ]
  },
  {
   "cell_type": "code",
   "execution_count": 42,
   "id": "133143d9-d06e-47bd-a14b-90f8ffc15b00",
   "metadata": {},
   "outputs": [
    {
     "data": {
      "image/png": "[encoded data removed]",
      "text/plain": [
       "<Figure size 640x480 with 1 Axes>"
      ]
     },
     "metadata": {},
     "output_type": "display_data"
    }
   ],
   "source": [
    "countClasses = pd.value_counts(targetVar.values, sort=True)\n",
    "countClasses.plot.bar(legend=None, title=\"Target Class Distribution\")\n",
    "plt.show()"
   ]
  },
  {
   "cell_type": "code",
   "execution_count": 43,
   "id": "f346d9bb-8bca-49ec-ba93-35f4c343ee26",
   "metadata": {},
   "outputs": [],
   "source": [
    "# make our experiments repeatable\n",
    "np.random.seed(0)\n",
    "\n",
    "# Model Hyperparameters\n",
    "embedding_dim = 100\n",
    "\n",
    "# Here we specify the number of units of our RNN layer\n",
    "gru_dims = 64\n",
    "\n",
    "# Training parameters. Here we specify the training of the net will use N examples for each backprop iteration\n",
    "batch_size = 64\n",
    "\n",
    "# We will go thru the entire data set N times\n",
    "num_epochs = 10\n",
    "\n",
    "# Prepossessing parameters\n",
    "# We will only input the first \"sequence_length\" words of every Yelp review (and pad out with nulls if the text is < \"sequence_length\n",
    "# We will also build our model using the most frequent 20000 words in our tweet 'dictionary'\n",
    "sequence_length = 200\n",
    "max_features = 20000\n",
    "\n",
    "#Specify the number of classes to predict (1 for binary classification or count unique values for multilabel classification)\n",
    "#num_classes = 1\n",
    "num_classes = targetVar.nunique()"
   ]
  },
  {
   "cell_type": "code",
   "execution_count": 44,
   "id": "53e6d3b5-2ec5-47b1-a17a-f14310e7609e",
   "metadata": {},
   "outputs": [],
   "source": [
    "# encoder = preprocessing.LabelEncoder()\n",
    "# encoder.fit(targetVar)\n",
    "\n",
    "X = textVar.values\n",
    "Y = pd.get_dummies(targetVar).values"
   ]
  },
  {
   "cell_type": "code",
   "execution_count": 45,
   "id": "1cb338d8-5c43-4d2d-b560-3e13f6304af3",
   "metadata": {},
   "outputs": [],
   "source": [
    "train_samples, val_samples, train_labels, val_labels = train_test_split(X,Y, stratify=targetVar, test_size = 0.33, random_state = 0)"
   ]
  },
  {
   "cell_type": "code",
   "execution_count": 46,
   "id": "85e86ea4-3f7c-4257-916a-955b3bcadffe",
   "metadata": {},
   "outputs": [
    {
     "name": "stdout",
     "output_type": "stream",
     "text": [
      "(70248,) (70248, 3)\n",
      "(34601,) (34601, 3)\n"
     ]
    }
   ],
   "source": [
    "# Check how many columns we have, make sure we have our sequence length set correctly\n",
    "\n",
    "print(train_samples.shape,train_labels.shape)\n",
    "print(val_samples.shape,val_labels.shape)"
   ]
  },
  {
   "cell_type": "code",
   "execution_count": 47,
   "id": "ca6fb26f-28bb-48ee-84bf-e9ac9879f55b",
   "metadata": {},
   "outputs": [],
   "source": [
    "vectorizer = TextVectorization(max_tokens  = max_features, output_sequence_length=sequence_length, ngrams=None, pad_to_max_tokens=True)\n",
    "\n",
    "text_ds = tf.data.Dataset.from_tensor_slices(train_samples).batch(128)\n",
    "vectorizer.adapt(text_ds)"
   ]
  },
  {
   "cell_type": "code",
   "execution_count": 48,
   "id": "4eb2436f-c4eb-4e4c-8442-5a80cb23fcad",
   "metadata": {},
   "outputs": [
    {
     "data": {
      "text/plain": [
       "['', '[UNK]', 'the', 'i', 'it']"
      ]
     },
     "execution_count": 48,
     "metadata": {},
     "output_type": "execute_result"
    }
   ],
   "source": [
    "vectorizer.get_vocabulary()[:5]"
   ]
  },
  {
   "cell_type": "code",
   "execution_count": 49,
   "id": "42fabe04-301a-4391-bd95-cf3a7c4551af",
   "metadata": {},
   "outputs": [],
   "source": [
    "X_train = vectorizer(np.array([[s] for s in train_samples])).numpy()\n",
    "X_test = vectorizer(np.array([[s] for s in val_samples])).numpy()\n",
    "\n",
    "Y_train = np.array(train_labels)\n",
    "Y_test = np.array(val_labels)"
   ]
  },
  {
   "cell_type": "code",
   "execution_count": 50,
   "id": "1e02f881-1905-4c6b-986b-3f45c769e843",
   "metadata": {},
   "outputs": [
    {
     "name": "stdout",
     "output_type": "stream",
     "text": [
      "Found 400000 word vectors.\n"
     ]
    }
   ],
   "source": [
    "embeddings_index = {}\n",
    "\n",
    "glove_dir = '/home/jupyter/data/wordvec/'\n",
    "f = open(os.path.join(glove_dir, 'glove.6B.100d.txt'), encoding=\"utf8\")\n",
    "\n",
    "for line in f:\n",
    "    values = line.split()\n",
    "    word = values[0]\n",
    "    coefs = np.asarray(values[1:], dtype='float32')\n",
    "    embeddings_index[word] = coefs\n",
    "f.close()\n",
    "\n",
    "print('Found %s word vectors.' % len(embeddings_index))"
   ]
  },
  {
   "cell_type": "code",
   "execution_count": 51,
   "id": "cfb8dae8-1bf0-45d2-ba2f-52658bbf72fa",
   "metadata": {},
   "outputs": [],
   "source": [
    "voc = vectorizer.get_vocabulary()\n",
    "word_index = dict(zip(voc, range(len(voc))))"
   ]
  },
  {
   "cell_type": "code",
   "execution_count": 52,
   "id": "1f10c02e-c659-49c1-adf4-77644b4ebc7b",
   "metadata": {},
   "outputs": [
    {
     "name": "stdout",
     "output_type": "stream",
     "text": [
      "Converted 15572 words (4428 misses)\n"
     ]
    }
   ],
   "source": [
    "num_tokens = len(voc) + 2\n",
    "hits = 0\n",
    "misses = 0\n",
    "\n",
    "# Prepare embedding matrix\n",
    "embedding_matrix = np.zeros((num_tokens, embedding_dim))\n",
    "for word, i in word_index.items():\n",
    "    embedding_vector = embeddings_index.get(word)\n",
    "    if embedding_vector is not None:\n",
    "        # Words not found in embedding index will be all-zeros.\n",
    "        # This includes the representation for \"padding\" and \"OOV\"\n",
    "        embedding_matrix[i] = embedding_vector\n",
    "        hits += 1\n",
    "    else:\n",
    "        misses += 1\n",
    "print(\"Converted %d words (%d misses)\" % (hits, misses))"
   ]
  },
  {
   "cell_type": "code",
   "execution_count": 53,
   "id": "6ce6d3ed-6792-4c67-852b-ee82683158ce",
   "metadata": {},
   "outputs": [],
   "source": [
    "embedding_layer = Embedding(\n",
    "    num_tokens,\n",
    "    embedding_dim,\n",
    "    embeddings_initializer=keras.initializers.Constant(embedding_matrix),\n",
    "    trainable=False,\n",
    ")"
   ]
  },
  {
   "cell_type": "code",
   "execution_count": 54,
   "id": "c86bf5d8-1a78-4ae8-9389-8fb9352db37a",
   "metadata": {},
   "outputs": [
    {
     "name": "stdout",
     "output_type": "stream",
     "text": [
      "Model: \"model_1\"\n",
      "__________________________________________________________________________________________________\n",
      " Layer (type)                   Output Shape         Param #     Connected to                     \n",
      "==================================================================================================\n",
      " input_2 (InputLayer)           [(None, 200)]        0           []                               \n",
      "                                                                                                  \n",
      " embedding_3 (Embedding)        (None, 200, 100)     2000200     ['input_2[0][0]']                \n",
      "                                                                                                  \n",
      " spatial_dropout1d_1 (SpatialDr  (None, 200, 100)    0           ['embedding_3[0][0]']            \n",
      " opout1D)                                                                                         \n",
      "                                                                                                  \n",
      " bidirectional_1 (Bidirectional  (None, 200, 128)    63744       ['spatial_dropout1d_1[0][0]']    \n",
      " )                                                                                                \n",
      "                                                                                                  \n",
      " global_average_pooling1d_1 (Gl  (None, 128)         0           ['bidirectional_1[0][0]']        \n",
      " obalAveragePooling1D)                                                                            \n",
      "                                                                                                  \n",
      " global_max_pooling1d_1 (Global  (None, 128)         0           ['bidirectional_1[0][0]']        \n",
      " MaxPooling1D)                                                                                    \n",
      "                                                                                                  \n",
      " concatenate_1 (Concatenate)    (None, 256)          0           ['global_average_pooling1d_1[0][0\n",
      "                                                                 ]',                              \n",
      "                                                                  'global_max_pooling1d_1[0][0]'] \n",
      "                                                                                                  \n",
      " dense_1 (Dense)                (None, 3)            771         ['concatenate_1[0][0]']          \n",
      "                                                                                                  \n",
      "==================================================================================================\n",
      "Total params: 2,064,715\n",
      "Trainable params: 2,064,715\n",
      "Non-trainable params: 0\n",
      "__________________________________________________________________________________________________\n",
      "None\n"
     ]
    }
   ],
   "source": [
    "# Model architecture from: https://www.kaggle.com/yekenot/pooled-gru-fasttext\n",
    "\n",
    "inputs = Input(shape=(sequence_length, ))\n",
    "\n",
    "x = Embedding(num_tokens, embedding_dim, weights=[embedding_matrix])(inputs)\n",
    "x = SpatialDropout1D(0.2)(x)\n",
    "x = Bidirectional(GRU(gru_dims, return_sequences=True))(x)\n",
    "\n",
    "# Create a concatenation of GlobalAveragePooling1D and GlobalMaxPooling1D layers\n",
    "avg_pool = GlobalAveragePooling1D()(x)\n",
    "max_pool = GlobalMaxPooling1D()(x)\n",
    "concatenated = concatenate([avg_pool, max_pool])\n",
    "outputs = Dense(3, activation=\"softmax\")(concatenated)\n",
    "\n",
    "model = Model(inputs=inputs, outputs=outputs)\n",
    "model.compile(loss = 'categorical_crossentropy', optimizer='adam', metrics = ['accuracy'])\n",
    "\n",
    "print(model.summary())"
   ]
  },
  {
   "cell_type": "code",
   "execution_count": 55,
   "id": "f5277715-6fa9-4a25-bc87-fbdc555af4a6",
   "metadata": {},
   "outputs": [
    {
     "data": {
      "image/png": "[encoded data removed]",
      "text/plain": [
       "<IPython.core.display.Image object>"
      ]
     },
     "execution_count": 55,
     "metadata": {},
     "output_type": "execute_result"
    }
   ],
   "source": [
    "tf.keras.utils.plot_model(model)"
   ]
  },
  {
   "cell_type": "code",
   "execution_count": 56,
   "id": "b963eb5f-ebfb-4eda-9e19-0515b3535000",
   "metadata": {},
   "outputs": [
    {
     "name": "stdout",
     "output_type": "stream",
     "text": [
      "Epoch 1/10\n",
      "1098/1098 [==============================] - ETA: 0s - loss: 0.5877 - accuracy: 0.7343\n",
      "Epoch 1: val_accuracy improved from -inf to 0.79449, saving model to /home/jupyter/data/dl_models/gru_glove_weights_best\n"
     ]
    },
    {
     "name": "stderr",
     "output_type": "stream",
     "text": [
      "WARNING:absl:Found untraced functions such as gru_cell_4_layer_call_fn, gru_cell_4_layer_call_and_return_conditional_losses, gru_cell_5_layer_call_fn, gru_cell_5_layer_call_and_return_conditional_losses while saving (showing 4 of 4). These functions will not be directly callable after loading.\n"
     ]
    },
    {
     "name": "stdout",
     "output_type": "stream",
     "text": [
      "INFO:tensorflow:Assets written to: /home/jupyter/data/dl_models/gru_glove_weights_best/assets\n"
     ]
    },
    {
     "name": "stderr",
     "output_type": "stream",
     "text": [
      "INFO:tensorflow:Assets written to: /home/jupyter/data/dl_models/gru_glove_weights_best/assets\n"
     ]
    },
    {
     "name": "stdout",
     "output_type": "stream",
     "text": [
      "1098/1098 [==============================] - 38s 32ms/step - loss: 0.5877 - accuracy: 0.7343 - val_loss: 0.4725 - val_accuracy: 0.7945\n",
      "Epoch 2/10\n",
      "1096/1098 [============================>.] - ETA: 0s - loss: 0.4562 - accuracy: 0.8034\n",
      "Epoch 2: val_accuracy improved from 0.79449 to 0.80110, saving model to /home/jupyter/data/dl_models/gru_glove_weights_best\n"
     ]
    },
    {
     "name": "stderr",
     "output_type": "stream",
     "text": [
      "WARNING:absl:Found untraced functions such as gru_cell_4_layer_call_fn, gru_cell_4_layer_call_and_return_conditional_losses, gru_cell_5_layer_call_fn, gru_cell_5_layer_call_and_return_conditional_losses while saving (showing 4 of 4). These functions will not be directly callable after loading.\n"
     ]
    },
    {
     "name": "stdout",
     "output_type": "stream",
     "text": [
      "INFO:tensorflow:Assets written to: /home/jupyter/data/dl_models/gru_glove_weights_best/assets\n"
     ]
    },
    {
     "name": "stderr",
     "output_type": "stream",
     "text": [
      "INFO:tensorflow:Assets written to: /home/jupyter/data/dl_models/gru_glove_weights_best/assets\n"
     ]
    },
    {
     "name": "stdout",
     "output_type": "stream",
     "text": [
      "1098/1098 [==============================] - 32s 29ms/step - loss: 0.4560 - accuracy: 0.8035 - val_loss: 0.4611 - val_accuracy: 0.8011\n",
      "Epoch 3/10\n",
      "1097/1098 [============================>.] - ETA: 0s - loss: 0.4138 - accuracy: 0.8251\n",
      "Epoch 3: val_accuracy improved from 0.80110 to 0.80382, saving model to /home/jupyter/data/dl_models/gru_glove_weights_best\n"
     ]
    },
    {
     "name": "stderr",
     "output_type": "stream",
     "text": [
      "WARNING:absl:Found untraced functions such as gru_cell_4_layer_call_fn, gru_cell_4_layer_call_and_return_conditional_losses, gru_cell_5_layer_call_fn, gru_cell_5_layer_call_and_return_conditional_losses while saving (showing 4 of 4). These functions will not be directly callable after loading.\n"
     ]
    },
    {
     "name": "stdout",
     "output_type": "stream",
     "text": [
      "INFO:tensorflow:Assets written to: /home/jupyter/data/dl_models/gru_glove_weights_best/assets\n"
     ]
    },
    {
     "name": "stderr",
     "output_type": "stream",
     "text": [
      "INFO:tensorflow:Assets written to: /home/jupyter/data/dl_models/gru_glove_weights_best/assets\n"
     ]
    },
    {
     "name": "stdout",
     "output_type": "stream",
     "text": [
      "1098/1098 [==============================] - 34s 31ms/step - loss: 0.4137 - accuracy: 0.8251 - val_loss: 0.4597 - val_accuracy: 0.8038\n",
      "Epoch 4/10\n",
      "1098/1098 [==============================] - ETA: 0s - loss: 0.3769 - accuracy: 0.8418\n",
      "Epoch 4: val_accuracy did not improve from 0.80382\n",
      "1098/1098 [==============================] - 21s 19ms/step - loss: 0.3769 - accuracy: 0.8418 - val_loss: 0.4683 - val_accuracy: 0.8028\n",
      "Epoch 5/10\n",
      "1098/1098 [==============================] - ETA: 0s - loss: 0.3404 - accuracy: 0.8602\n",
      "Epoch 5: val_accuracy did not improve from 0.80382\n",
      "1098/1098 [==============================] - 23s 21ms/step - loss: 0.3404 - accuracy: 0.8602 - val_loss: 0.4963 - val_accuracy: 0.7974\n",
      "Epoch 6/10\n",
      "1096/1098 [============================>.] - ETA: 0s - loss: 0.3050 - accuracy: 0.8771\n",
      "Epoch 6: val_accuracy did not improve from 0.80382\n",
      "1098/1098 [==============================] - 21s 19ms/step - loss: 0.3052 - accuracy: 0.8771 - val_loss: 0.5118 - val_accuracy: 0.7948\n",
      "Epoch 7/10\n",
      "1096/1098 [============================>.] - ETA: 0s - loss: 0.2757 - accuracy: 0.8910\n",
      "Epoch 7: val_accuracy did not improve from 0.80382\n",
      "1098/1098 [==============================] - 21s 19ms/step - loss: 0.2756 - accuracy: 0.8910 - val_loss: 0.5423 - val_accuracy: 0.7873\n",
      "Epoch 8/10\n",
      "1096/1098 [============================>.] - ETA: 0s - loss: 0.2491 - accuracy: 0.9013\n",
      "Epoch 8: val_accuracy did not improve from 0.80382\n",
      "1098/1098 [==============================] - 23s 21ms/step - loss: 0.2492 - accuracy: 0.9012 - val_loss: 0.5709 - val_accuracy: 0.7860\n",
      "Epoch 9/10\n",
      "1098/1098 [==============================] - ETA: 0s - loss: 0.2234 - accuracy: 0.9126\n",
      "Epoch 9: val_accuracy did not improve from 0.80382\n",
      "1098/1098 [==============================] - 21s 19ms/step - loss: 0.2234 - accuracy: 0.9126 - val_loss: 0.6257 - val_accuracy: 0.7833\n",
      "Epoch 10/10\n",
      "1095/1098 [============================>.] - ETA: 0s - loss: 0.2041 - accuracy: 0.9211\n",
      "Epoch 10: val_accuracy did not improve from 0.80382\n",
      "1098/1098 [==============================] - 21s 19ms/step - loss: 0.2041 - accuracy: 0.9212 - val_loss: 0.6505 - val_accuracy: 0.7789\n",
      "GRU Glove model train time = 254 seconds\n"
     ]
    }
   ],
   "source": [
    "filepath=\"/home/jupyter/data/dl_models/gru_glove_weights_best\"\n",
    "\n",
    "checkpoint = ModelCheckpoint(filepath, monitor='val_accuracy',\n",
    "                             verbose=1, save_best_only=True, save_weights_only=False, overwrite=True, mode='max')\n",
    "#only save model if it improves the accuracy\n",
    "\n",
    "callbacks_list = [checkpoint]\n",
    "\n",
    "t1 = time.time()\n",
    "history = model.fit(X_train, Y_train,\n",
    "                    batch_size=batch_size, \n",
    "                    epochs=num_epochs,\n",
    "                    validation_data=(X_test, Y_test),\n",
    "                    callbacks = callbacks_list,\n",
    "                    verbose=1)\n",
    "t2 = time.time()\n",
    "print(\"GRU Glove model train time = %d seconds\" %(t2-t1))\n",
    "\n",
    "GRU_glove_history = history"
   ]
  },
  {
   "cell_type": "code",
   "execution_count": 57,
   "id": "73adba2b-446b-4e1f-9b70-911505fefd2d",
   "metadata": {},
   "outputs": [
    {
     "name": "stdout",
     "output_type": "stream",
     "text": [
      "total 1964\n",
      "drwxr-xr-x 2 jupyter jupyter    4096 May 22 08:09 assets\n",
      "-rw-r--r-- 1 jupyter jupyter   21877 May 24 22:23 keras_metadata.pb\n",
      "-rw-r--r-- 1 jupyter jupyter 1974355 May 24 22:23 saved_model.pb\n",
      "drwxr-xr-x 2 jupyter jupyter    4096 May 24 22:23 variables\n"
     ]
    }
   ],
   "source": [
    "!ls -l \"/home/jupyter/data/dl_models/gru_glove_weights_best\""
   ]
  },
  {
   "cell_type": "code",
   "execution_count": 58,
   "id": "e257aee5-6418-4ab9-b0ad-8145619762a5",
   "metadata": {},
   "outputs": [
    {
     "data": {
      "text/plain": [
       "dict_keys(['loss', 'accuracy', 'val_loss', 'val_accuracy'])"
      ]
     },
     "execution_count": 58,
     "metadata": {},
     "output_type": "execute_result"
    }
   ],
   "source": [
    "history.history.keys()"
   ]
  },
  {
   "cell_type": "code",
   "execution_count": 59,
   "id": "77de8763-393a-482e-831b-29ee8a6b01ed",
   "metadata": {},
   "outputs": [],
   "source": [
    "def plot_train(history):\n",
    "    \"\"\"\n",
    "    Plot the keras epoch results thru training\n",
    "    \"\"\"\n",
    "    h = history.history\n",
    "    epochs = range(1, len(h['accuracy']) + 1)\n",
    "    plt.plot(epochs, h['accuracy'], 'orange', label='Training acc')\n",
    "    plt.plot(epochs, h['val_accuracy'], 'blue', label='Validation acc')\n",
    "    plt.title('Training and Validation Accuracy')\n",
    "    plt.xlabel('Epochs')\n",
    "    plt.ylabel('Accuracy')\n",
    "    plt.legend()\n",
    "    plt.show()"
   ]
  },
  {
   "cell_type": "code",
   "execution_count": 60,
   "id": "0ca14784-f64b-4917-9872-b29cb3567829",
   "metadata": {},
   "outputs": [
    {
     "data": {
      "image/png": "[encoded data removed]",
      "text/plain": [
       "<Figure size 640x480 with 1 Axes>"
      ]
     },
     "metadata": {},
     "output_type": "display_data"
    }
   ],
   "source": [
    "plot_train(GRU_glove_history)"
   ]
  },
  {
   "cell_type": "code",
   "execution_count": 61,
   "id": "3c74bfed-160d-4302-9a7a-171f7081d999",
   "metadata": {},
   "outputs": [],
   "source": [
    "def plot_loss(history):\n",
    "    \"\"\"\n",
    "    Plot the keras epoch results thru training\n",
    "    \"\"\"\n",
    "    h = history.history\n",
    "    epochs = range(1, len(h['accuracy']) + 1)\n",
    "    plt.plot(epochs, h['loss'], 'orange', label='Training loss')\n",
    "    plt.plot(epochs, h['val_loss'], 'blue', label='Validation loss')  \n",
    "    plt.title('Training and Validation Loss')\n",
    "    plt.xlabel('Epochs')\n",
    "    plt.ylabel('Loss')\n",
    "    plt.legend()\n",
    "    plt.show()"
   ]
  },
  {
   "cell_type": "code",
   "execution_count": 62,
   "id": "f3cab8a5-2c30-4efc-bab9-67baf104a031",
   "metadata": {},
   "outputs": [
    {
     "data": {
      "image/png": "[encoded data removed]",
      "text/plain": [
       "<Figure size 640x480 with 1 Axes>"
      ]
     },
     "metadata": {},
     "output_type": "display_data"
    }
   ],
   "source": [
    "plot_loss(GRU_glove_history)"
   ]
  },
  {
   "cell_type": "code",
   "execution_count": 63,
   "id": "78a9ce6c-d64f-4fce-915c-3b3e5cf7626e",
   "metadata": {},
   "outputs": [
    {
     "data": {
      "text/plain": [
       "[0.7342700362205505,\n",
       " 0.8034535050392151,\n",
       " 0.8251195549964905,\n",
       " 0.8418460488319397,\n",
       " 0.8602237701416016,\n",
       " 0.8770641088485718,\n",
       " 0.8910146951675415,\n",
       " 0.901249885559082,\n",
       " 0.9125526547431946,\n",
       " 0.9211649894714355]"
      ]
     },
     "execution_count": 63,
     "metadata": {},
     "output_type": "execute_result"
    }
   ],
   "source": [
    "history.history['accuracy']"
   ]
  },
  {
   "cell_type": "code",
   "execution_count": 64,
   "id": "8ece5656-427c-4970-9a69-f2bf4161b3dc",
   "metadata": {},
   "outputs": [
    {
     "data": {
      "text/plain": [
       "[0.7944856882095337,\n",
       " 0.8011040091514587,\n",
       " 0.8038206696510315,\n",
       " 0.802751362323761,\n",
       " 0.7974047064781189,\n",
       " 0.7948036193847656,\n",
       " 0.7872604727745056,\n",
       " 0.7860177159309387,\n",
       " 0.783329963684082,\n",
       " 0.7789081335067749]"
      ]
     },
     "execution_count": 64,
     "metadata": {},
     "output_type": "execute_result"
    }
   ],
   "source": [
    "history.history['val_accuracy']"
   ]
  },
  {
   "cell_type": "markdown",
   "id": "5dcb039e-f400-458c-9d15-bd3cd6b11d06",
   "metadata": {},
   "source": [
    "## For 2 epochs"
   ]
  },
  {
   "cell_type": "code",
   "execution_count": 65,
   "id": "d0be4971-ef76-46e9-b54c-31bb313654d5",
   "metadata": {},
   "outputs": [],
   "source": [
    "# make our experiments repeatable\n",
    "np.random.seed(0)\n",
    "\n",
    "# Model Hyperparameters\n",
    "embedding_dim = 100\n",
    "\n",
    "# Here we specify the number of units of our RNN layer\n",
    "gru_dims = 64\n",
    "\n",
    "# Training parameters. Here we specify the training of the net will use N examples for each backprop iteration\n",
    "batch_size = 64\n",
    "\n",
    "# We will go thru the entire data set N times\n",
    "num_epochs = 2\n",
    "\n",
    "# Prepossessing parameters\n",
    "# We will only input the first \"sequence_length\" words of every Yelp review (and pad out with nulls if the text is < \"sequence_length\n",
    "# We will also build our model using the most frequent 20000 words in our tweet 'dictionary'\n",
    "sequence_length = 200\n",
    "max_features = 20000\n",
    "\n",
    "#Specify the number of classes to predict (1 for binary classification or count unique values for multilabel classification)\n",
    "#num_classes = 1\n",
    "num_classes = targetVar.nunique()"
   ]
  },
  {
   "cell_type": "code",
   "execution_count": 66,
   "id": "17c95922-b336-4da7-8d9d-ac1227620888",
   "metadata": {},
   "outputs": [],
   "source": [
    "# encoder = preprocessing.LabelEncoder()\n",
    "# encoder.fit(targetVar)\n",
    "\n",
    "X = textVar.values\n",
    "Y = pd.get_dummies(targetVar).values"
   ]
  },
  {
   "cell_type": "code",
   "execution_count": 67,
   "id": "951bafc6-32b7-40e2-a15f-95df88881894",
   "metadata": {},
   "outputs": [],
   "source": [
    "train_samples, val_samples, train_labels, val_labels = train_test_split(X,Y, stratify=targetVar, test_size = 0.33, random_state = 0)"
   ]
  },
  {
   "cell_type": "code",
   "execution_count": 68,
   "id": "d1492884-13c2-4306-83c7-ade9becd6b81",
   "metadata": {},
   "outputs": [
    {
     "name": "stdout",
     "output_type": "stream",
     "text": [
      "(70248,) (70248, 3)\n",
      "(34601,) (34601, 3)\n"
     ]
    }
   ],
   "source": [
    "# Check how many columns we have, make sure we have our sequence length set correctly\n",
    "\n",
    "print(train_samples.shape,train_labels.shape)\n",
    "print(val_samples.shape,val_labels.shape)"
   ]
  },
  {
   "cell_type": "code",
   "execution_count": 69,
   "id": "983938af-a617-4b76-b189-da1a8d13a11b",
   "metadata": {},
   "outputs": [],
   "source": [
    "vectorizer = TextVectorization(max_tokens  = max_features, output_sequence_length=sequence_length, ngrams=None, pad_to_max_tokens=True)\n",
    "\n",
    "text_ds = tf.data.Dataset.from_tensor_slices(train_samples).batch(128)\n",
    "vectorizer.adapt(text_ds)"
   ]
  },
  {
   "cell_type": "code",
   "execution_count": 70,
   "id": "0824a6aa-e990-4f04-a783-aad24a88b547",
   "metadata": {},
   "outputs": [
    {
     "data": {
      "text/plain": [
       "['', '[UNK]', 'the', 'i', 'it']"
      ]
     },
     "execution_count": 70,
     "metadata": {},
     "output_type": "execute_result"
    }
   ],
   "source": [
    "vectorizer.get_vocabulary()[:5]"
   ]
  },
  {
   "cell_type": "code",
   "execution_count": 71,
   "id": "b150dcd3-666d-4f15-abd7-0e8abb9e8700",
   "metadata": {},
   "outputs": [],
   "source": [
    "X_train = vectorizer(np.array([[s] for s in train_samples])).numpy()\n",
    "X_test = vectorizer(np.array([[s] for s in val_samples])).numpy()\n",
    "\n",
    "Y_train = np.array(train_labels)\n",
    "Y_test = np.array(val_labels)"
   ]
  },
  {
   "cell_type": "code",
   "execution_count": 72,
   "id": "d1df66d9-d8fe-4d46-89c3-bef25dc84c4e",
   "metadata": {},
   "outputs": [
    {
     "name": "stdout",
     "output_type": "stream",
     "text": [
      "Found 400000 word vectors.\n"
     ]
    }
   ],
   "source": [
    "embeddings_index = {}\n",
    "\n",
    "glove_dir = '/home/jupyter/data/wordvec/'\n",
    "f = open(os.path.join(glove_dir, 'glove.6B.100d.txt'), encoding=\"utf8\")\n",
    "\n",
    "for line in f:\n",
    "    values = line.split()\n",
    "    word = values[0]\n",
    "    coefs = np.asarray(values[1:], dtype='float32')\n",
    "    embeddings_index[word] = coefs\n",
    "f.close()\n",
    "\n",
    "print('Found %s word vectors.' % len(embeddings_index))"
   ]
  },
  {
   "cell_type": "code",
   "execution_count": 73,
   "id": "66c8c329-9cdc-4c77-955f-6120a0c5b98a",
   "metadata": {},
   "outputs": [],
   "source": [
    "voc = vectorizer.get_vocabulary()\n",
    "word_index = dict(zip(voc, range(len(voc))))"
   ]
  },
  {
   "cell_type": "code",
   "execution_count": 74,
   "id": "013ae449-1881-46f6-9639-bb071af2b9db",
   "metadata": {},
   "outputs": [
    {
     "name": "stdout",
     "output_type": "stream",
     "text": [
      "Converted 15572 words (4428 misses)\n"
     ]
    }
   ],
   "source": [
    "num_tokens = len(voc) + 2\n",
    "hits = 0\n",
    "misses = 0\n",
    "\n",
    "# Prepare embedding matrix\n",
    "embedding_matrix = np.zeros((num_tokens, embedding_dim))\n",
    "for word, i in word_index.items():\n",
    "    embedding_vector = embeddings_index.get(word)\n",
    "    if embedding_vector is not None:\n",
    "        # Words not found in embedding index will be all-zeros.\n",
    "        # This includes the representation for \"padding\" and \"OOV\"\n",
    "        embedding_matrix[i] = embedding_vector\n",
    "        hits += 1\n",
    "    else:\n",
    "        misses += 1\n",
    "print(\"Converted %d words (%d misses)\" % (hits, misses))"
   ]
  },
  {
   "cell_type": "code",
   "execution_count": 75,
   "id": "d30e7d0e-40de-4425-9f9f-141b12e98287",
   "metadata": {},
   "outputs": [],
   "source": [
    "embedding_layer = Embedding(\n",
    "    num_tokens,\n",
    "    embedding_dim,\n",
    "    embeddings_initializer=keras.initializers.Constant(embedding_matrix),\n",
    "    trainable=False,\n",
    ")"
   ]
  },
  {
   "cell_type": "code",
   "execution_count": 76,
   "id": "a664ea94-e07c-4a2e-9533-71eb5531b36b",
   "metadata": {},
   "outputs": [
    {
     "name": "stdout",
     "output_type": "stream",
     "text": [
      "Model: \"model_2\"\n",
      "__________________________________________________________________________________________________\n",
      " Layer (type)                   Output Shape         Param #     Connected to                     \n",
      "==================================================================================================\n",
      " input_3 (InputLayer)           [(None, 200)]        0           []                               \n",
      "                                                                                                  \n",
      " embedding_5 (Embedding)        (None, 200, 100)     2000200     ['input_3[0][0]']                \n",
      "                                                                                                  \n",
      " spatial_dropout1d_2 (SpatialDr  (None, 200, 100)    0           ['embedding_5[0][0]']            \n",
      " opout1D)                                                                                         \n",
      "                                                                                                  \n",
      " bidirectional_2 (Bidirectional  (None, 200, 128)    63744       ['spatial_dropout1d_2[0][0]']    \n",
      " )                                                                                                \n",
      "                                                                                                  \n",
      " global_average_pooling1d_2 (Gl  (None, 128)         0           ['bidirectional_2[0][0]']        \n",
      " obalAveragePooling1D)                                                                            \n",
      "                                                                                                  \n",
      " global_max_pooling1d_2 (Global  (None, 128)         0           ['bidirectional_2[0][0]']        \n",
      " MaxPooling1D)                                                                                    \n",
      "                                                                                                  \n",
      " concatenate_2 (Concatenate)    (None, 256)          0           ['global_average_pooling1d_2[0][0\n",
      "                                                                 ]',                              \n",
      "                                                                  'global_max_pooling1d_2[0][0]'] \n",
      "                                                                                                  \n",
      " dense_2 (Dense)                (None, 3)            771         ['concatenate_2[0][0]']          \n",
      "                                                                                                  \n",
      "==================================================================================================\n",
      "Total params: 2,064,715\n",
      "Trainable params: 2,064,715\n",
      "Non-trainable params: 0\n",
      "__________________________________________________________________________________________________\n",
      "None\n"
     ]
    }
   ],
   "source": [
    "# Model architecture from: https://www.kaggle.com/yekenot/pooled-gru-fasttext\n",
    "\n",
    "inputs = Input(shape=(sequence_length, ))\n",
    "\n",
    "x = Embedding(num_tokens, embedding_dim, weights=[embedding_matrix])(inputs)\n",
    "x = SpatialDropout1D(0.2)(x)\n",
    "x = Bidirectional(GRU(gru_dims, return_sequences=True))(x)\n",
    "\n",
    "# Create a concatenation of GlobalAveragePooling1D and GlobalMaxPooling1D layers\n",
    "avg_pool = GlobalAveragePooling1D()(x)\n",
    "max_pool = GlobalMaxPooling1D()(x)\n",
    "concatenated = concatenate([avg_pool, max_pool])\n",
    "outputs = Dense(3, activation=\"softmax\")(concatenated)\n",
    "\n",
    "model = Model(inputs=inputs, outputs=outputs)\n",
    "model.compile(loss = 'categorical_crossentropy', optimizer='adam', metrics = ['accuracy'])\n",
    "\n",
    "print(model.summary())"
   ]
  },
  {
   "cell_type": "code",
   "execution_count": 78,
   "id": "1257da65-d5ec-468b-b1dd-ba3fc0581550",
   "metadata": {},
   "outputs": [
    {
     "name": "stdout",
     "output_type": "stream",
     "text": [
      "Epoch 1/2\n",
      "1095/1098 [============================>.] - ETA: 0s - loss: 0.5950 - accuracy: 0.7315\n",
      "Epoch 1: val_accuracy improved from -inf to 0.79423, saving model to /home/jupyter/data/dl_models/gru_glove_weights_best\n"
     ]
    },
    {
     "name": "stderr",
     "output_type": "stream",
     "text": [
      "WARNING:absl:Found untraced functions such as gru_cell_7_layer_call_fn, gru_cell_7_layer_call_and_return_conditional_losses, gru_cell_8_layer_call_fn, gru_cell_8_layer_call_and_return_conditional_losses while saving (showing 4 of 4). These functions will not be directly callable after loading.\n"
     ]
    },
    {
     "name": "stdout",
     "output_type": "stream",
     "text": [
      "INFO:tensorflow:Assets written to: /home/jupyter/data/dl_models/gru_glove_weights_best/assets\n"
     ]
    },
    {
     "name": "stderr",
     "output_type": "stream",
     "text": [
      "INFO:tensorflow:Assets written to: /home/jupyter/data/dl_models/gru_glove_weights_best/assets\n"
     ]
    },
    {
     "name": "stdout",
     "output_type": "stream",
     "text": [
      "1098/1098 [==============================] - 36s 30ms/step - loss: 0.5947 - accuracy: 0.7316 - val_loss: 0.4788 - val_accuracy: 0.7942\n",
      "Epoch 2/2\n",
      "1097/1098 [============================>.] - ETA: 0s - loss: 0.4570 - accuracy: 0.8043\n",
      "Epoch 2: val_accuracy improved from 0.79423 to 0.79842, saving model to /home/jupyter/data/dl_models/gru_glove_weights_best\n"
     ]
    },
    {
     "name": "stderr",
     "output_type": "stream",
     "text": [
      "WARNING:absl:Found untraced functions such as gru_cell_7_layer_call_fn, gru_cell_7_layer_call_and_return_conditional_losses, gru_cell_8_layer_call_fn, gru_cell_8_layer_call_and_return_conditional_losses while saving (showing 4 of 4). These functions will not be directly callable after loading.\n"
     ]
    },
    {
     "name": "stdout",
     "output_type": "stream",
     "text": [
      "INFO:tensorflow:Assets written to: /home/jupyter/data/dl_models/gru_glove_weights_best/assets\n"
     ]
    },
    {
     "name": "stderr",
     "output_type": "stream",
     "text": [
      "INFO:tensorflow:Assets written to: /home/jupyter/data/dl_models/gru_glove_weights_best/assets\n"
     ]
    },
    {
     "name": "stdout",
     "output_type": "stream",
     "text": [
      "1098/1098 [==============================] - 34s 31ms/step - loss: 0.4570 - accuracy: 0.8043 - val_loss: 0.4610 - val_accuracy: 0.7984\n",
      "GRU Glove model train time = 70 seconds\n"
     ]
    }
   ],
   "source": [
    "filepath=\"/home/jupyter/data/dl_models/gru_glove_weights_best\"\n",
    "\n",
    "checkpoint = ModelCheckpoint(filepath, monitor='val_accuracy',\n",
    "                             verbose=1, save_best_only=True, save_weights_only=False, overwrite=True, mode='max')\n",
    "#only save model if it improves the accuracy\n",
    "\n",
    "callbacks_list = [checkpoint]\n",
    "\n",
    "t1 = time.time()\n",
    "history = model.fit(X_train, Y_train,\n",
    "                    batch_size=batch_size, \n",
    "                    epochs=num_epochs,\n",
    "                    validation_data=(X_test, Y_test),\n",
    "                    callbacks = callbacks_list,\n",
    "                    verbose=1)\n",
    "t2 = time.time()\n",
    "print(\"GRU Glove model train time = %d seconds\" %(t2-t1))\n",
    "\n",
    "GRU_glove_history = history"
   ]
  },
  {
   "cell_type": "code",
   "execution_count": 79,
   "id": "9d99f142-6012-4790-8cec-f2d3000df0eb",
   "metadata": {},
   "outputs": [
    {
     "name": "stdout",
     "output_type": "stream",
     "text": [
      "total 1964\n",
      "drwxr-xr-x 2 jupyter jupyter    4096 May 22 08:09 assets\n",
      "-rw-r--r-- 1 jupyter jupyter   21877 May 24 22:27 keras_metadata.pb\n",
      "-rw-r--r-- 1 jupyter jupyter 1974355 May 24 22:27 saved_model.pb\n",
      "drwxr-xr-x 2 jupyter jupyter    4096 May 24 22:27 variables\n"
     ]
    }
   ],
   "source": [
    "!ls -l \"/home/jupyter/data/dl_models/gru_glove_weights_best\""
   ]
  },
  {
   "cell_type": "code",
   "execution_count": 80,
   "id": "6da5caec-22c0-4a9f-ac40-6e847c4d9bb6",
   "metadata": {},
   "outputs": [
    {
     "data": {
      "text/plain": [
       "dict_keys(['loss', 'accuracy', 'val_loss', 'val_accuracy'])"
      ]
     },
     "execution_count": 80,
     "metadata": {},
     "output_type": "execute_result"
    }
   ],
   "source": [
    "history.history.keys()"
   ]
  },
  {
   "cell_type": "code",
   "execution_count": 81,
   "id": "6920dab2-b0c4-48af-a178-f0b7c563597a",
   "metadata": {},
   "outputs": [],
   "source": [
    "from sklearn.metrics import accuracy_score, classification_report, confusion_matrix"
   ]
  },
  {
   "cell_type": "code",
   "execution_count": 82,
   "id": "05208ae2-2b00-42ae-a4c4-51a19416c092",
   "metadata": {},
   "outputs": [
    {
     "name": "stdout",
     "output_type": "stream",
     "text": [
      "1082/1082 [==============================] - 7s 6ms/step\n"
     ]
    }
   ],
   "source": [
    "pred_model = model.predict(X_test)\n",
    "pred_model_final = np.argmax(pred_model,axis=1)"
   ]
  },
  {
   "cell_type": "code",
   "execution_count": 83,
   "id": "a7563603-dbc1-4ed3-8315-4079dd644bd2",
   "metadata": {},
   "outputs": [],
   "source": [
    "Y_test_max = np.argmax(Y_test,axis=1)"
   ]
  },
  {
   "cell_type": "code",
   "execution_count": 84,
   "id": "cda65a4a-b3a8-46ac-b211-8aa05d8047b3",
   "metadata": {},
   "outputs": [
    {
     "data": {
      "text/plain": [
       "0.7984162307447762"
      ]
     },
     "execution_count": 84,
     "metadata": {},
     "output_type": "execute_result"
    }
   ],
   "source": [
    "accuracy_score(Y_test_max, pred_model_final)  "
   ]
  },
  {
   "cell_type": "code",
   "execution_count": 85,
   "id": "f19f3724-8d19-4f54-8c61-ed4d8a4fa371",
   "metadata": {},
   "outputs": [
    {
     "name": "stdout",
     "output_type": "stream",
     "text": [
      "[[ 4158  1525   116]\n",
      " [  762  8395  2420]\n",
      " [   46  2106 15073]]\n"
     ]
    }
   ],
   "source": [
    "print(confusion_matrix(Y_test_max, pred_model_final))"
   ]
  },
  {
   "cell_type": "code",
   "execution_count": 86,
   "id": "b7040f19-8839-4564-85b8-adfadbb55b1a",
   "metadata": {},
   "outputs": [
    {
     "name": "stdout",
     "output_type": "stream",
     "text": [
      "              precision    recall  f1-score   support\n",
      "\n",
      "           0       0.84      0.72      0.77      5799\n",
      "           1       0.70      0.73      0.71     11577\n",
      "           2       0.86      0.88      0.87     17225\n",
      "\n",
      "    accuracy                           0.80     34601\n",
      "   macro avg       0.80      0.77      0.78     34601\n",
      "weighted avg       0.80      0.80      0.80     34601\n",
      "\n"
     ]
    }
   ],
   "source": [
    "print(classification_report(Y_test_max, pred_model_final))"
   ]
  }
 ],
 "metadata": {
  "kernelspec": {
   "display_name": "TensorFlow 2 (Local)",
   "language": "python",
   "name": "local-tf2"
  },
  "language_info": {
   "codemirror_mode": {
    "name": "ipython",
    "version": 3
   },
   "file_extension": ".py",
   "mimetype": "text/x-python",
   "name": "python",
   "nbconvert_exporter": "python",
   "pygments_lexer": "ipython3",
   "version": "3.7.12"
  }
 },
 "nbformat": 4,
 "nbformat_minor": 5
}
