{
 "cells": [
  {
   "cell_type": "code",
   "execution_count": 2,
   "id": "a7d38517-ada9-4193-a3da-a358821c70ed",
   "metadata": {},
   "outputs": [],
   "source": [
    "import numpy as np\n",
    "import pandas as pd\n",
    "import os, re, time\n",
    "import matplotlib.pyplot as plt\n",
    "\n",
    "from sklearn.model_selection import train_test_split\n",
    "from sklearn import preprocessing\n",
    "\n",
    "import tensorflow as tf\n",
    "from tensorflow import keras"
   ]
  },
  {
   "cell_type": "code",
   "execution_count": 3,
   "id": "1fe8a503-b191-4cf9-b3fa-9cdf7b88e4f1",
   "metadata": {},
   "outputs": [],
   "source": [
    "from keras import layers\n",
    "from keras.callbacks import TensorBoard\n",
    "\n",
    "from keras.models import Sequential, Model\n",
    "\n",
    "from keras.layers import LSTM, Dense, Dropout, Embedding, Input, Activation, GRU, Convolution1D, Flatten, LeakyReLU\n",
    "from keras.layers import Bidirectional, GlobalMaxPool1D, GlobalAveragePooling1D, MaxPooling1D, GlobalMaxPooling1D\n",
    "from keras.layers import SpatialDropout1D, MaxPooling1D, Bidirectional, GRU, concatenate\n",
    "\n",
    "from keras.preprocessing import sequence\n",
    "from keras.preprocessing.text import Tokenizer\n",
    "\n",
    "from keras.utils import pad_sequences\n",
    "\n",
    "from collections import OrderedDict\n",
    "\n",
    "from keras.callbacks import EarlyStopping, ModelCheckpoint\n",
    "\n",
    "from tensorflow.keras.layers.experimental.preprocessing import TextVectorization"
   ]
  },
  {
   "cell_type": "code",
   "execution_count": 4,
   "id": "4c3710b0-c15d-4499-b4e2-07bb3e233698",
   "metadata": {},
   "outputs": [],
   "source": [
    "import warnings\n",
    "warnings.filterwarnings(\"ignore\", category=FutureWarning)\n",
    "warnings.filterwarnings(\"ignore\", category=DeprecationWarning)"
   ]
  },
  {
   "cell_type": "code",
   "execution_count": 5,
   "id": "ee7e591a-639d-4b37-856f-e46a27232ae6",
   "metadata": {},
   "outputs": [
    {
     "name": "stdout",
     "output_type": "stream",
     "text": [
      "8\n"
     ]
    }
   ],
   "source": [
    "from multiprocessing import cpu_count\n",
    "print(cpu_count())"
   ]
  },
  {
   "cell_type": "code",
   "execution_count": 6,
   "id": "0795088a-7139-4b52-80ac-86e962cf62fd",
   "metadata": {},
   "outputs": [],
   "source": [
    "!mkdir -p /home/jupyter/data/wordvec/"
   ]
  },
  {
   "cell_type": "code",
   "execution_count": 7,
   "id": "679f51dd-a985-4a66-8f30-b293de25cd07",
   "metadata": {},
   "outputs": [
    {
     "name": "stdout",
     "output_type": "stream",
     "text": [
      "Skipping existing item: file:///home/jupyter/data/wordvec/glove.6B.100d.txt\n"
     ]
    }
   ],
   "source": [
    "!gsutil cp -n 'gs://msca-bdp-data-open/wordvec/glove.6B.100d.txt' '/home/jupyter/data/wordvec/'"
   ]
  },
  {
   "cell_type": "code",
   "execution_count": 8,
   "id": "b68e0ba5-1526-4a2d-823b-acf61c8b05a0",
   "metadata": {},
   "outputs": [],
   "source": [
    "mob_load = pd.read_csv(\"mobile__multi_sent.csv\")"
   ]
  },
  {
   "cell_type": "code",
   "execution_count": 9,
   "id": "00b44461-0d15-4b1c-bcb6-40b064680eb5",
   "metadata": {},
   "outputs": [
    {
     "data": {
      "text/plain": [
       " 1    52197\n",
       " 0    35080\n",
       "-1    17572\n",
       "Name: sentiment, dtype: int64"
      ]
     },
     "execution_count": 9,
     "metadata": {},
     "output_type": "execute_result"
    }
   ],
   "source": [
    "mob_load['sentiment'].value_counts()"
   ]
  },
  {
   "cell_type": "code",
   "execution_count": 10,
   "id": "5d72492c-e5f4-4591-b286-1726c0d78c22",
   "metadata": {},
   "outputs": [],
   "source": [
    "#Column with clean text\n",
    "textVar = mob_load[\"text\"]\n",
    "\n",
    "#Target columns (sentiment, class, etc.)\n",
    "targetVar = mob_load[\"sentiment\"]"
   ]
  },
  {
   "cell_type": "code",
   "execution_count": 11,
   "id": "251a847b-2b82-4898-b67e-4148900520a9",
   "metadata": {},
   "outputs": [
    {
     "data": {
      "text/plain": [
       "3"
      ]
     },
     "execution_count": 11,
     "metadata": {},
     "output_type": "execute_result"
    }
   ],
   "source": [
    "targetVar.nunique()"
   ]
  },
  {
   "cell_type": "code",
   "execution_count": 12,
   "id": "133143d9-d06e-47bd-a14b-90f8ffc15b00",
   "metadata": {},
   "outputs": [
    {
     "data": {
      "image/png": "[encoded data removed]",
      "text/plain": [
       "<Figure size 640x480 with 1 Axes>"
      ]
     },
     "metadata": {},
     "output_type": "display_data"
    }
   ],
   "source": [
    "countClasses = pd.value_counts(targetVar.values, sort=True)\n",
    "countClasses.plot.bar(legend=None, title=\"Target Class Distribution\")\n",
    "plt.show()"
   ]
  },
  {
   "cell_type": "code",
   "execution_count": 13,
   "id": "f346d9bb-8bca-49ec-ba93-35f4c343ee26",
   "metadata": {},
   "outputs": [],
   "source": [
    "# make our experiments repeatable\n",
    "np.random.seed(0)\n",
    "\n",
    "# Model Hyperparameters\n",
    "embedding_dim = 100\n",
    "\n",
    "# Here we specify the number of units of our RNN layer\n",
    "lstm_dims = 196\n",
    "\n",
    "# Training parameters. Here we specify the training of the net will use N examples for each backprop iteration\n",
    "batch_size = 64\n",
    "\n",
    "# We will go thru the entire data set N times\n",
    "num_epochs = 10\n",
    "\n",
    "# Prepossessing parameters\n",
    "# We will only input the first \"sequence_length\" words of every Yelp review (and pad out with nulls if the text is < \"sequence_length\n",
    "# We will also build our model using the most frequent 20000 words in our tweet 'dictionary'\n",
    "sequence_length = 200\n",
    "max_features = 20000\n",
    "\n",
    "#Specify the number of classes to predict (1 for binary classification or count unique values for multilabel classification)\n",
    "#num_classes = 1\n",
    "num_classes = targetVar.nunique()"
   ]
  },
  {
   "cell_type": "code",
   "execution_count": 14,
   "id": "53e6d3b5-2ec5-47b1-a17a-f14310e7609e",
   "metadata": {},
   "outputs": [],
   "source": [
    "# encoder = preprocessing.LabelEncoder()\n",
    "# encoder.fit(targetVar)\n",
    "\n",
    "X = textVar.values\n",
    "Y = pd.get_dummies(targetVar).values"
   ]
  },
  {
   "cell_type": "code",
   "execution_count": 15,
   "id": "1cb338d8-5c43-4d2d-b560-3e13f6304af3",
   "metadata": {},
   "outputs": [],
   "source": [
    "train_samples, val_samples, train_labels, val_labels = train_test_split(X,Y, stratify=targetVar, test_size = 0.33, random_state = 0)"
   ]
  },
  {
   "cell_type": "code",
   "execution_count": 16,
   "id": "85e86ea4-3f7c-4257-916a-955b3bcadffe",
   "metadata": {},
   "outputs": [
    {
     "name": "stdout",
     "output_type": "stream",
     "text": [
      "(70248,) (70248, 3)\n",
      "(34601,) (34601, 3)\n"
     ]
    }
   ],
   "source": [
    "# Check how many columns we have, make sure we have our sequence length set correctly\n",
    "\n",
    "print(train_samples.shape,train_labels.shape)\n",
    "print(val_samples.shape,val_labels.shape)"
   ]
  },
  {
   "cell_type": "code",
   "execution_count": 17,
   "id": "ca6fb26f-28bb-48ee-84bf-e9ac9879f55b",
   "metadata": {},
   "outputs": [
    {
     "name": "stderr",
     "output_type": "stream",
     "text": [
      "2023-05-24 23:06:38.795877: I tensorflow/stream_executor/cuda/cuda_gpu_executor.cc:980] successful NUMA node read from SysFS had negative value (-1), but there must be at least one NUMA node, so returning NUMA node zero\n",
      "2023-05-24 23:06:38.807592: I tensorflow/stream_executor/cuda/cuda_gpu_executor.cc:980] successful NUMA node read from SysFS had negative value (-1), but there must be at least one NUMA node, so returning NUMA node zero\n",
      "2023-05-24 23:06:38.807865: I tensorflow/stream_executor/cuda/cuda_gpu_executor.cc:980] successful NUMA node read from SysFS had negative value (-1), but there must be at least one NUMA node, so returning NUMA node zero\n",
      "2023-05-24 23:06:38.808913: I tensorflow/core/platform/cpu_feature_guard.cc:193] This TensorFlow binary is optimized with oneAPI Deep Neural Network Library (oneDNN) to use the following CPU instructions in performance-critical operations:  AVX2 FMA\n",
      "To enable them in other operations, rebuild TensorFlow with the appropriate compiler flags.\n",
      "2023-05-24 23:06:38.810326: I tensorflow/stream_executor/cuda/cuda_gpu_executor.cc:980] successful NUMA node read from SysFS had negative value (-1), but there must be at least one NUMA node, so returning NUMA node zero\n",
      "2023-05-24 23:06:38.810642: I tensorflow/stream_executor/cuda/cuda_gpu_executor.cc:980] successful NUMA node read from SysFS had negative value (-1), but there must be at least one NUMA node, so returning NUMA node zero\n",
      "2023-05-24 23:06:38.810879: I tensorflow/stream_executor/cuda/cuda_gpu_executor.cc:980] successful NUMA node read from SysFS had negative value (-1), but there must be at least one NUMA node, so returning NUMA node zero\n",
      "2023-05-24 23:06:39.488839: I tensorflow/stream_executor/cuda/cuda_gpu_executor.cc:980] successful NUMA node read from SysFS had negative value (-1), but there must be at least one NUMA node, so returning NUMA node zero\n",
      "2023-05-24 23:06:39.489175: I tensorflow/stream_executor/cuda/cuda_gpu_executor.cc:980] successful NUMA node read from SysFS had negative value (-1), but there must be at least one NUMA node, so returning NUMA node zero\n",
      "2023-05-24 23:06:39.489416: I tensorflow/stream_executor/cuda/cuda_gpu_executor.cc:980] successful NUMA node read from SysFS had negative value (-1), but there must be at least one NUMA node, so returning NUMA node zero\n",
      "2023-05-24 23:06:39.489626: I tensorflow/core/common_runtime/gpu/gpu_device.cc:1616] Created device /job:localhost/replica:0/task:0/device:GPU:0 with 14626 MB memory:  -> device: 0, name: Tesla V100-SXM2-16GB, pci bus id: 0000:00:04.0, compute capability: 7.0\n"
     ]
    }
   ],
   "source": [
    "vectorizer = TextVectorization(max_tokens=max_features, output_sequence_length=sequence_length, ngrams=None, pad_to_max_tokens=True)\n",
    "\n",
    "text_ds = tf.data.Dataset.from_tensor_slices(train_samples).batch(128)\n",
    "vectorizer.adapt(text_ds)"
   ]
  },
  {
   "cell_type": "code",
   "execution_count": 18,
   "id": "4eb2436f-c4eb-4e4c-8442-5a80cb23fcad",
   "metadata": {},
   "outputs": [
    {
     "data": {
      "text/plain": [
       "['', '[UNK]', 'the', 'i', 'it']"
      ]
     },
     "execution_count": 18,
     "metadata": {},
     "output_type": "execute_result"
    }
   ],
   "source": [
    "vectorizer.get_vocabulary()[:5]"
   ]
  },
  {
   "cell_type": "code",
   "execution_count": 19,
   "id": "42fabe04-301a-4391-bd95-cf3a7c4551af",
   "metadata": {},
   "outputs": [],
   "source": [
    "X_train = vectorizer(np.array([[s] for s in train_samples])).numpy()\n",
    "X_test = vectorizer(np.array([[s] for s in val_samples])).numpy()\n",
    "\n",
    "Y_train = np.array(train_labels)\n",
    "Y_test = np.array(val_labels)"
   ]
  },
  {
   "cell_type": "markdown",
   "id": "6f181fe0-bd60-44d2-a256-5653b928ca1f",
   "metadata": {},
   "source": [
    "### Load the pretrained vector space model\n",
    "\n",
    "GloVe embedding data can be found at:\n",
    "\n",
    "http://nlp.stanford.edu/data/glove.6B.zip\n",
    "\n",
    "(source page: http://nlp.stanford.edu/projects/glove/)\n",
    "\n",
    "* For Tweets we shall use data trained on Twitter (2B tweets, 27B tokens, 1.2M vocab)\n",
    "* For non-Twitter data Gigaword would be a better choice (6B tokens, 400K vocab).  \n",
    "\n",
    "Gigaword -  is a comprehensive archive of newswire text data that has been acquired over several years by the LDC at the University of Pennsylvania. The fifth edition includes all of the contents in English Gigaword Fourth Edition (LDC2009T13) plus new data covering the 24-month period of January 2009 through December 2010."
   ]
  },
  {
   "cell_type": "code",
   "execution_count": 20,
   "id": "1e02f881-1905-4c6b-986b-3f45c769e843",
   "metadata": {},
   "outputs": [
    {
     "name": "stdout",
     "output_type": "stream",
     "text": [
      "Found 400000 word vectors.\n"
     ]
    }
   ],
   "source": [
    "embeddings_index = {}\n",
    "\n",
    "glove_dir = '/home/jupyter/data/wordvec/'\n",
    "f = open(os.path.join(glove_dir, 'glove.6B.100d.txt'), encoding=\"utf8\")\n",
    "\n",
    "for line in f:\n",
    "    values = line.split()\n",
    "    word = values[0]\n",
    "    coefs = np.asarray(values[1:], dtype='float32')\n",
    "    embeddings_index[word] = coefs\n",
    "f.close()\n",
    "\n",
    "print('Found %s word vectors.' % len(embeddings_index))"
   ]
  },
  {
   "cell_type": "code",
   "execution_count": 21,
   "id": "cfb8dae8-1bf0-45d2-ba2f-52658bbf72fa",
   "metadata": {},
   "outputs": [],
   "source": [
    "voc = vectorizer.get_vocabulary()\n",
    "word_index = dict(zip(voc, range(len(voc))))"
   ]
  },
  {
   "cell_type": "code",
   "execution_count": 22,
   "id": "1f10c02e-c659-49c1-adf4-77644b4ebc7b",
   "metadata": {},
   "outputs": [
    {
     "name": "stdout",
     "output_type": "stream",
     "text": [
      "Converted 15572 words (4428 misses)\n"
     ]
    }
   ],
   "source": [
    "num_tokens = len(voc) + 2\n",
    "hits = 0\n",
    "misses = 0\n",
    "\n",
    "# Prepare embedding matrix\n",
    "embedding_matrix = np.zeros((num_tokens, embedding_dim))\n",
    "for word, i in word_index.items():\n",
    "    embedding_vector = embeddings_index.get(word)\n",
    "    if embedding_vector is not None:\n",
    "        # Words not found in embedding index will be all-zeros.\n",
    "        # This includes the representation for \"padding\" and \"OOV\"\n",
    "        embedding_matrix[i] = embedding_vector\n",
    "        hits += 1\n",
    "    else:\n",
    "        misses += 1\n",
    "print(\"Converted %d words (%d misses)\" % (hits, misses))"
   ]
  },
  {
   "cell_type": "code",
   "execution_count": 23,
   "id": "6ce6d3ed-6792-4c67-852b-ee82683158ce",
   "metadata": {},
   "outputs": [],
   "source": [
    "embedding_layer = Embedding(\n",
    "    num_tokens,\n",
    "    embedding_dim,\n",
    "    embeddings_initializer=keras.initializers.Constant(embedding_matrix),\n",
    "    trainable=False,\n",
    ")"
   ]
  },
  {
   "cell_type": "code",
   "execution_count": 24,
   "id": "c86bf5d8-1a78-4ae8-9389-8fb9352db37a",
   "metadata": {},
   "outputs": [
    {
     "name": "stdout",
     "output_type": "stream",
     "text": [
      "Model: \"model\"\n",
      "_________________________________________________________________\n",
      " Layer (type)                Output Shape              Param #   \n",
      "=================================================================\n",
      " input_1 (InputLayer)        [(None, None)]            0         \n",
      "                                                                 \n",
      " embedding (Embedding)       (None, None, 100)         2000200   \n",
      "                                                                 \n",
      " lstm_layer (LSTM)           (None, None, 196)         232848    \n",
      "                                                                 \n",
      " global_max_pooling1d (Globa  (None, 196)              0         \n",
      " lMaxPooling1D)                                                  \n",
      "                                                                 \n",
      " dropout (Dropout)           (None, 196)               0         \n",
      "                                                                 \n",
      " dense (Dense)               (None, 50)                9850      \n",
      "                                                                 \n",
      " dropout_1 (Dropout)         (None, 50)                0         \n",
      "                                                                 \n",
      " dense_1 (Dense)             (None, 3)                 153       \n",
      "                                                                 \n",
      "=================================================================\n",
      "Total params: 2,243,051\n",
      "Trainable params: 242,851\n",
      "Non-trainable params: 2,000,200\n",
      "_________________________________________________________________\n",
      "None\n"
     ]
    }
   ],
   "source": [
    "sequence_input = keras.Input(shape=(None,), dtype=\"int64\")\n",
    "embedded_sequences = embedding_layer(sequence_input)\n",
    "\n",
    "x = LSTM(lstm_dims, return_sequences=True,name='lstm_layer')(embedded_sequences)\n",
    "x = GlobalMaxPool1D()(x)\n",
    "x = Dropout(0.1)(x)\n",
    "x = Dense(50, activation=\"relu\")(x)\n",
    "x = Dropout(0.1)(x)\n",
    "preds = Dense(units = 3, activation=\"softmax\")(x)\n",
    "\n",
    "\n",
    "model = Model(sequence_input, preds)\n",
    "model.compile(loss = 'categorical_crossentropy', optimizer='adam', metrics = ['accuracy'])\n",
    "\n",
    "print(model.summary())"
   ]
  },
  {
   "cell_type": "code",
   "execution_count": 25,
   "id": "8a943b34-62ed-4aac-934f-9895073469de",
   "metadata": {},
   "outputs": [
    {
     "data": {
      "image/png": "[encoded data removed]",
      "text/plain": [
       "<IPython.core.display.Image object>"
      ]
     },
     "execution_count": 25,
     "metadata": {},
     "output_type": "execute_result"
    }
   ],
   "source": [
    "tf.keras.utils.plot_model(model)"
   ]
  },
  {
   "cell_type": "code",
   "execution_count": 26,
   "id": "b963eb5f-ebfb-4eda-9e19-0515b3535000",
   "metadata": {},
   "outputs": [
    {
     "name": "stdout",
     "output_type": "stream",
     "text": [
      "Epoch 1/10\n"
     ]
    },
    {
     "name": "stderr",
     "output_type": "stream",
     "text": [
      "2023-05-24 23:06:58.118144: I tensorflow/stream_executor/cuda/cuda_dnn.cc:384] Loaded cuDNN version 8200\n"
     ]
    },
    {
     "name": "stdout",
     "output_type": "stream",
     "text": [
      "1096/1098 [============================>.] - ETA: 0s - loss: 0.6048 - accuracy: 0.7267\n",
      "Epoch 1: val_accuracy improved from -inf to 0.77082, saving model to /home/jupyter/data/dl_models/gru_glove_weights_best\n"
     ]
    },
    {
     "name": "stderr",
     "output_type": "stream",
     "text": [
      "WARNING:absl:Found untraced functions such as lstm_cell_layer_call_fn, lstm_cell_layer_call_and_return_conditional_losses while saving (showing 2 of 2). These functions will not be directly callable after loading.\n"
     ]
    },
    {
     "name": "stdout",
     "output_type": "stream",
     "text": [
      "INFO:tensorflow:Assets written to: /home/jupyter/data/dl_models/gru_glove_weights_best/assets\n"
     ]
    },
    {
     "name": "stderr",
     "output_type": "stream",
     "text": [
      "INFO:tensorflow:Assets written to: /home/jupyter/data/dl_models/gru_glove_weights_best/assets\n"
     ]
    },
    {
     "name": "stdout",
     "output_type": "stream",
     "text": [
      "1098/1098 [==============================] - 40s 34ms/step - loss: 0.6045 - accuracy: 0.7268 - val_loss: 0.5166 - val_accuracy: 0.7708\n",
      "Epoch 2/10\n",
      "1096/1098 [============================>.] - ETA: 0s - loss: 0.4895 - accuracy: 0.7864\n",
      "Epoch 2: val_accuracy improved from 0.77082 to 0.79223, saving model to /home/jupyter/data/dl_models/gru_glove_weights_best\n"
     ]
    },
    {
     "name": "stderr",
     "output_type": "stream",
     "text": [
      "WARNING:absl:Found untraced functions such as lstm_cell_layer_call_fn, lstm_cell_layer_call_and_return_conditional_losses while saving (showing 2 of 2). These functions will not be directly callable after loading.\n"
     ]
    },
    {
     "name": "stdout",
     "output_type": "stream",
     "text": [
      "INFO:tensorflow:Assets written to: /home/jupyter/data/dl_models/gru_glove_weights_best/assets\n"
     ]
    },
    {
     "name": "stderr",
     "output_type": "stream",
     "text": [
      "INFO:tensorflow:Assets written to: /home/jupyter/data/dl_models/gru_glove_weights_best/assets\n"
     ]
    },
    {
     "name": "stdout",
     "output_type": "stream",
     "text": [
      "1098/1098 [==============================] - 36s 33ms/step - loss: 0.4895 - accuracy: 0.7864 - val_loss: 0.4751 - val_accuracy: 0.7922\n",
      "Epoch 3/10\n",
      "1098/1098 [==============================] - ETA: 0s - loss: 0.4608 - accuracy: 0.8014\n",
      "Epoch 3: val_accuracy did not improve from 0.79223\n",
      "1098/1098 [==============================] - 19s 17ms/step - loss: 0.4608 - accuracy: 0.8014 - val_loss: 0.4806 - val_accuracy: 0.7868\n",
      "Epoch 4/10\n",
      "1097/1098 [============================>.] - ETA: 0s - loss: 0.4383 - accuracy: 0.8122\n",
      "Epoch 4: val_accuracy improved from 0.79223 to 0.79790, saving model to /home/jupyter/data/dl_models/gru_glove_weights_best\n"
     ]
    },
    {
     "name": "stderr",
     "output_type": "stream",
     "text": [
      "WARNING:absl:Found untraced functions such as lstm_cell_layer_call_fn, lstm_cell_layer_call_and_return_conditional_losses while saving (showing 2 of 2). These functions will not be directly callable after loading.\n"
     ]
    },
    {
     "name": "stdout",
     "output_type": "stream",
     "text": [
      "INFO:tensorflow:Assets written to: /home/jupyter/data/dl_models/gru_glove_weights_best/assets\n"
     ]
    },
    {
     "name": "stderr",
     "output_type": "stream",
     "text": [
      "INFO:tensorflow:Assets written to: /home/jupyter/data/dl_models/gru_glove_weights_best/assets\n"
     ]
    },
    {
     "name": "stdout",
     "output_type": "stream",
     "text": [
      "1098/1098 [==============================] - 36s 33ms/step - loss: 0.4383 - accuracy: 0.8122 - val_loss: 0.4650 - val_accuracy: 0.7979\n",
      "Epoch 5/10\n",
      "1095/1098 [============================>.] - ETA: 0s - loss: 0.4206 - accuracy: 0.8209\n",
      "Epoch 5: val_accuracy improved from 0.79790 to 0.79992, saving model to /home/jupyter/data/dl_models/gru_glove_weights_best\n"
     ]
    },
    {
     "name": "stderr",
     "output_type": "stream",
     "text": [
      "WARNING:absl:Found untraced functions such as lstm_cell_layer_call_fn, lstm_cell_layer_call_and_return_conditional_losses while saving (showing 2 of 2). These functions will not be directly callable after loading.\n"
     ]
    },
    {
     "name": "stdout",
     "output_type": "stream",
     "text": [
      "INFO:tensorflow:Assets written to: /home/jupyter/data/dl_models/gru_glove_weights_best/assets\n"
     ]
    },
    {
     "name": "stderr",
     "output_type": "stream",
     "text": [
      "INFO:tensorflow:Assets written to: /home/jupyter/data/dl_models/gru_glove_weights_best/assets\n"
     ]
    },
    {
     "name": "stdout",
     "output_type": "stream",
     "text": [
      "1098/1098 [==============================] - 34s 31ms/step - loss: 0.4203 - accuracy: 0.8210 - val_loss: 0.4634 - val_accuracy: 0.7999\n",
      "Epoch 6/10\n",
      "1095/1098 [============================>.] - ETA: 0s - loss: 0.4041 - accuracy: 0.8273\n",
      "Epoch 6: val_accuracy did not improve from 0.79992\n",
      "1098/1098 [==============================] - 19s 17ms/step - loss: 0.4043 - accuracy: 0.8273 - val_loss: 0.4595 - val_accuracy: 0.7986\n",
      "Epoch 7/10\n",
      "1096/1098 [============================>.] - ETA: 0s - loss: 0.3837 - accuracy: 0.8371\n",
      "Epoch 7: val_accuracy improved from 0.79992 to 0.80371, saving model to /home/jupyter/data/dl_models/gru_glove_weights_best\n"
     ]
    },
    {
     "name": "stderr",
     "output_type": "stream",
     "text": [
      "WARNING:absl:Found untraced functions such as lstm_cell_layer_call_fn, lstm_cell_layer_call_and_return_conditional_losses while saving (showing 2 of 2). These functions will not be directly callable after loading.\n"
     ]
    },
    {
     "name": "stdout",
     "output_type": "stream",
     "text": [
      "INFO:tensorflow:Assets written to: /home/jupyter/data/dl_models/gru_glove_weights_best/assets\n"
     ]
    },
    {
     "name": "stderr",
     "output_type": "stream",
     "text": [
      "INFO:tensorflow:Assets written to: /home/jupyter/data/dl_models/gru_glove_weights_best/assets\n"
     ]
    },
    {
     "name": "stdout",
     "output_type": "stream",
     "text": [
      "1098/1098 [==============================] - 36s 32ms/step - loss: 0.3840 - accuracy: 0.8370 - val_loss: 0.4578 - val_accuracy: 0.8037\n",
      "Epoch 8/10\n",
      "1095/1098 [============================>.] - ETA: 0s - loss: 0.3663 - accuracy: 0.8454\n",
      "Epoch 8: val_accuracy did not improve from 0.80371\n",
      "1098/1098 [==============================] - 19s 17ms/step - loss: 0.3664 - accuracy: 0.8454 - val_loss: 0.4675 - val_accuracy: 0.7992\n",
      "Epoch 9/10\n",
      "1097/1098 [============================>.] - ETA: 0s - loss: 0.3514 - accuracy: 0.8509\n",
      "Epoch 9: val_accuracy did not improve from 0.80371\n",
      "1098/1098 [==============================] - 20s 19ms/step - loss: 0.3514 - accuracy: 0.8508 - val_loss: 0.4787 - val_accuracy: 0.7983\n",
      "Epoch 10/10\n",
      "1097/1098 [============================>.] - ETA: 0s - loss: 0.3326 - accuracy: 0.8614\n",
      "Epoch 10: val_accuracy did not improve from 0.80371\n",
      "1098/1098 [==============================] - 19s 17ms/step - loss: 0.3326 - accuracy: 0.8614 - val_loss: 0.4850 - val_accuracy: 0.8005\n",
      "GRU Glove model train time = 278 seconds\n"
     ]
    }
   ],
   "source": [
    "filepath=\"/home/jupyter/data/dl_models/gru_glove_weights_best\"\n",
    "\n",
    "checkpoint = ModelCheckpoint(filepath, monitor='val_accuracy',\n",
    "                             verbose=1, save_best_only=True, save_weights_only=False, overwrite=True, mode='max')\n",
    "#only save model if it improves the accuracy\n",
    "\n",
    "callbacks_list = [checkpoint]\n",
    "\n",
    "t1 = time.time()\n",
    "history = model.fit(X_train, Y_train,\n",
    "                    batch_size=batch_size, \n",
    "                    epochs=num_epochs,\n",
    "                    validation_data=(X_test, Y_test),\n",
    "                    callbacks = callbacks_list,\n",
    "                    verbose=1)\n",
    "t2 = time.time()\n",
    "print(\"GRU Glove model train time = %d seconds\" %(t2-t1))\n",
    "\n",
    "GRU_glove_history = history"
   ]
  },
  {
   "cell_type": "code",
   "execution_count": 27,
   "id": "73adba2b-446b-4e1f-9b70-911505fefd2d",
   "metadata": {},
   "outputs": [
    {
     "name": "stdout",
     "output_type": "stream",
     "text": [
      "total 102980\n",
      "drwxr-xr-x 2 jupyter jupyter      4096 May 22 08:09 assets\n",
      "-rw-r--r-- 1 jupyter jupyter 104631010 May 24 23:10 keras_metadata.pb\n",
      "-rw-r--r-- 1 jupyter jupyter    810775 May 24 23:10 saved_model.pb\n",
      "drwxr-xr-x 2 jupyter jupyter      4096 May 24 23:10 variables\n"
     ]
    }
   ],
   "source": [
    "!ls -l \"/home/jupyter/data/dl_models/gru_glove_weights_best\""
   ]
  },
  {
   "cell_type": "code",
   "execution_count": 28,
   "id": "e257aee5-6418-4ab9-b0ad-8145619762a5",
   "metadata": {},
   "outputs": [
    {
     "data": {
      "text/plain": [
       "dict_keys(['loss', 'accuracy', 'val_loss', 'val_accuracy'])"
      ]
     },
     "execution_count": 28,
     "metadata": {},
     "output_type": "execute_result"
    }
   ],
   "source": [
    "history.history.keys()"
   ]
  },
  {
   "cell_type": "code",
   "execution_count": 29,
   "id": "77de8763-393a-482e-831b-29ee8a6b01ed",
   "metadata": {},
   "outputs": [],
   "source": [
    "def plot_train(history):\n",
    "    \"\"\"\n",
    "    Plot the keras epoch results thru training\n",
    "    \"\"\"\n",
    "    h = history.history\n",
    "    epochs = range(1, len(h['accuracy']) + 1)\n",
    "    plt.plot(epochs, h['accuracy'], 'orange', label='Training acc')\n",
    "    plt.plot(epochs, h['val_accuracy'], 'blue', label='Validation acc')\n",
    "    plt.title('Training and Validation Accuracy')\n",
    "    plt.xlabel('Epochs')\n",
    "    plt.ylabel('Accuracy')\n",
    "    plt.legend()\n",
    "    plt.show()"
   ]
  },
  {
   "cell_type": "code",
   "execution_count": 30,
   "id": "0ca14784-f64b-4917-9872-b29cb3567829",
   "metadata": {},
   "outputs": [
    {
     "data": {
      "image/png": "[encoded data removed]",
      "text/plain": [
       "<Figure size 640x480 with 1 Axes>"
      ]
     },
     "metadata": {},
     "output_type": "display_data"
    }
   ],
   "source": [
    "plot_train(GRU_glove_history)"
   ]
  },
  {
   "cell_type": "code",
   "execution_count": 31,
   "id": "3c74bfed-160d-4302-9a7a-171f7081d999",
   "metadata": {},
   "outputs": [],
   "source": [
    "def plot_loss(history):\n",
    "    \"\"\"\n",
    "    Plot the keras epoch results thru training\n",
    "    \"\"\"\n",
    "    h = history.history\n",
    "    epochs = range(1, len(h['accuracy']) + 1)\n",
    "    plt.plot(epochs, h['loss'], 'orange', label='Training loss')\n",
    "    plt.plot(epochs, h['val_loss'], 'blue', label='Validation loss') \n",
    "    plt.title('Training and Validation Loss')\n",
    "    plt.xlabel('Epochs')\n",
    "    plt.ylabel('Loss')\n",
    "    plt.legend()\n",
    "    plt.show()"
   ]
  },
  {
   "cell_type": "code",
   "execution_count": 32,
   "id": "f3cab8a5-2c30-4efc-bab9-67baf104a031",
   "metadata": {},
   "outputs": [
    {
     "data": {
      "image/png": "[encoded data removed]",
      "text/plain": [
       "<Figure size 640x480 with 1 Axes>"
      ]
     },
     "metadata": {},
     "output_type": "display_data"
    }
   ],
   "source": [
    "plot_loss(GRU_glove_history)"
   ]
  },
  {
   "cell_type": "code",
   "execution_count": 33,
   "id": "89e59052-0d51-4314-a52e-3545bae8e96f",
   "metadata": {},
   "outputs": [
    {
     "data": {
      "text/plain": [
       "0.8121512532234192"
      ]
     },
     "execution_count": 33,
     "metadata": {},
     "output_type": "execute_result"
    }
   ],
   "source": [
    "history.history['accuracy'][3]"
   ]
  },
  {
   "cell_type": "code",
   "execution_count": 34,
   "id": "bdb3ccba-6fb8-4a34-b2cf-b128fd8e067d",
   "metadata": {},
   "outputs": [
    {
     "data": {
      "text/plain": [
       "0.7978960275650024"
      ]
     },
     "execution_count": 34,
     "metadata": {},
     "output_type": "execute_result"
    }
   ],
   "source": [
    "history.history['val_accuracy'][3]"
   ]
  },
  {
   "cell_type": "code",
   "execution_count": 35,
   "id": "03b0c697-b0d2-4864-b376-30db26b18c5c",
   "metadata": {},
   "outputs": [
    {
     "data": {
      "text/plain": [
       "0.43827611207962036"
      ]
     },
     "execution_count": 35,
     "metadata": {},
     "output_type": "execute_result"
    }
   ],
   "source": [
    "history.history['loss'][3]"
   ]
  },
  {
   "cell_type": "code",
   "execution_count": 36,
   "id": "73de6b98-2758-46c4-92ff-cf7cb00d4e53",
   "metadata": {},
   "outputs": [
    {
     "data": {
      "text/plain": [
       "0.4650194048881531"
      ]
     },
     "execution_count": 36,
     "metadata": {},
     "output_type": "execute_result"
    }
   ],
   "source": [
    "history.history['val_loss'][3]"
   ]
  },
  {
   "cell_type": "markdown",
   "id": "c62e6ff3-33a6-4d4a-8143-14380f83a9df",
   "metadata": {},
   "source": [
    "## For Epochs = 4"
   ]
  },
  {
   "cell_type": "code",
   "execution_count": 46,
   "id": "f51a2196-785d-4224-8e6c-e4bbd7fc5208",
   "metadata": {},
   "outputs": [],
   "source": [
    "# make our experiments repeatable\n",
    "np.random.seed(0)\n",
    "\n",
    "# Model Hyperparameters\n",
    "embedding_dim = 100\n",
    "\n",
    "# Here we specify the number of units of our RNN layer\n",
    "lstm_dims = 196\n",
    "\n",
    "# Training parameters. Here we specify the training of the net will use N examples for each backprop iteration\n",
    "batch_size = 64\n",
    "\n",
    "# We will go thru the entire data set N times\n",
    "num_epochs = 4\n",
    "\n",
    "# Prepossessing parameters\n",
    "# We will only input the first \"sequence_length\" words of every Yelp review (and pad out with nulls if the text is < \"sequence_length\n",
    "# We will also build our model using the most frequent 20000 words in our tweet 'dictionary'\n",
    "sequence_length = 200\n",
    "max_features = 20000\n",
    "\n",
    "#Specify the number of classes to predict (1 for binary classification or count unique values for multilabel classification)\n",
    "#num_classes = 1\n",
    "num_classes = targetVar.nunique()"
   ]
  },
  {
   "cell_type": "code",
   "execution_count": 47,
   "id": "07a3d3a5-c9a1-4f6d-9f85-d52fd04b89cf",
   "metadata": {},
   "outputs": [],
   "source": [
    "# encoder = preprocessing.LabelEncoder()\n",
    "# encoder.fit(targetVar)\n",
    "\n",
    "X = textVar.values\n",
    "Y = pd.get_dummies(targetVar).values"
   ]
  },
  {
   "cell_type": "code",
   "execution_count": 48,
   "id": "d2d9dd07-8667-42ed-aa6f-c3de46a6627b",
   "metadata": {},
   "outputs": [],
   "source": [
    "train_samples, val_samples, train_labels, val_labels = train_test_split(X,Y, stratify=targetVar, test_size = 0.33, random_state = 0)"
   ]
  },
  {
   "cell_type": "code",
   "execution_count": 49,
   "id": "4c964952-8bc9-41a6-875c-44e3e1ea967b",
   "metadata": {},
   "outputs": [
    {
     "name": "stdout",
     "output_type": "stream",
     "text": [
      "(70248,) (70248, 3)\n",
      "(34601,) (34601, 3)\n"
     ]
    }
   ],
   "source": [
    "# Check how many columns we have, make sure we have our sequence length set correctly\n",
    "\n",
    "print(train_samples.shape,train_labels.shape)\n",
    "print(val_samples.shape,val_labels.shape)"
   ]
  },
  {
   "cell_type": "code",
   "execution_count": 50,
   "id": "48147f18-f20b-4382-89aa-710d8c82b99b",
   "metadata": {},
   "outputs": [],
   "source": [
    "vectorizer = TextVectorization(max_tokens=max_features, output_sequence_length=sequence_length, ngrams=None, pad_to_max_tokens=True)\n",
    "\n",
    "text_ds = tf.data.Dataset.from_tensor_slices(train_samples).batch(128)\n",
    "vectorizer.adapt(text_ds)"
   ]
  },
  {
   "cell_type": "code",
   "execution_count": 51,
   "id": "2422fba9-9dd9-4136-b4de-4df590c54d6f",
   "metadata": {},
   "outputs": [
    {
     "data": {
      "text/plain": [
       "['', '[UNK]', 'the', 'i', 'it']"
      ]
     },
     "execution_count": 51,
     "metadata": {},
     "output_type": "execute_result"
    }
   ],
   "source": [
    "vectorizer.get_vocabulary()[:5]"
   ]
  },
  {
   "cell_type": "code",
   "execution_count": 52,
   "id": "3a8a1f53-a6b6-4b32-a2ce-70aca207b238",
   "metadata": {},
   "outputs": [],
   "source": [
    "X_train = vectorizer(np.array([[s] for s in train_samples])).numpy()\n",
    "X_test = vectorizer(np.array([[s] for s in val_samples])).numpy()\n",
    "\n",
    "Y_train = np.array(train_labels)\n",
    "Y_test = np.array(val_labels)"
   ]
  },
  {
   "cell_type": "code",
   "execution_count": 53,
   "id": "610267fa-98dd-49b0-8710-0010507b6375",
   "metadata": {},
   "outputs": [
    {
     "name": "stdout",
     "output_type": "stream",
     "text": [
      "Found 400000 word vectors.\n"
     ]
    }
   ],
   "source": [
    "embeddings_index = {}\n",
    "\n",
    "glove_dir = '/home/jupyter/data/wordvec/'\n",
    "f = open(os.path.join(glove_dir, 'glove.6B.100d.txt'), encoding=\"utf8\")\n",
    "\n",
    "for line in f:\n",
    "    values = line.split()\n",
    "    word = values[0]\n",
    "    coefs = np.asarray(values[1:], dtype='float32')\n",
    "    embeddings_index[word] = coefs\n",
    "f.close()\n",
    "\n",
    "print('Found %s word vectors.' % len(embeddings_index))"
   ]
  },
  {
   "cell_type": "code",
   "execution_count": 54,
   "id": "2af354b0-1c62-4609-b4a3-1a500fcf2943",
   "metadata": {},
   "outputs": [],
   "source": [
    "voc = vectorizer.get_vocabulary()\n",
    "word_index = dict(zip(voc, range(len(voc))))"
   ]
  },
  {
   "cell_type": "code",
   "execution_count": 55,
   "id": "14a11e91-990c-44a6-9805-4f167e0fa0b7",
   "metadata": {},
   "outputs": [
    {
     "name": "stdout",
     "output_type": "stream",
     "text": [
      "Converted 15572 words (4428 misses)\n"
     ]
    }
   ],
   "source": [
    "num_tokens = len(voc) + 2\n",
    "hits = 0\n",
    "misses = 0\n",
    "\n",
    "# Prepare embedding matrix\n",
    "embedding_matrix = np.zeros((num_tokens, embedding_dim))\n",
    "for word, i in word_index.items():\n",
    "    embedding_vector = embeddings_index.get(word)\n",
    "    if embedding_vector is not None:\n",
    "        # Words not found in embedding index will be all-zeros.\n",
    "        # This includes the representation for \"padding\" and \"OOV\"\n",
    "        embedding_matrix[i] = embedding_vector\n",
    "        hits += 1\n",
    "    else:\n",
    "        misses += 1\n",
    "print(\"Converted %d words (%d misses)\" % (hits, misses))"
   ]
  },
  {
   "cell_type": "code",
   "execution_count": 56,
   "id": "4320f8ab-b74e-4404-adfb-e9c19f7f496a",
   "metadata": {},
   "outputs": [],
   "source": [
    "embedding_layer = Embedding(\n",
    "    num_tokens,\n",
    "    embedding_dim,\n",
    "    embeddings_initializer=keras.initializers.Constant(embedding_matrix),\n",
    "    trainable=False,\n",
    ")"
   ]
  },
  {
   "cell_type": "code",
   "execution_count": 57,
   "id": "83e3e6a3-815d-41ce-bc38-09b38bcf36c3",
   "metadata": {},
   "outputs": [
    {
     "name": "stdout",
     "output_type": "stream",
     "text": [
      "Model: \"model_1\"\n",
      "_________________________________________________________________\n",
      " Layer (type)                Output Shape              Param #   \n",
      "=================================================================\n",
      " input_2 (InputLayer)        [(None, None)]            0         \n",
      "                                                                 \n",
      " embedding_1 (Embedding)     (None, None, 100)         2000200   \n",
      "                                                                 \n",
      " lstm_layer (LSTM)           (None, None, 196)         232848    \n",
      "                                                                 \n",
      " global_max_pooling1d_1 (Glo  (None, 196)              0         \n",
      " balMaxPooling1D)                                                \n",
      "                                                                 \n",
      " dropout_2 (Dropout)         (None, 196)               0         \n",
      "                                                                 \n",
      " dense_2 (Dense)             (None, 50)                9850      \n",
      "                                                                 \n",
      " dropout_3 (Dropout)         (None, 50)                0         \n",
      "                                                                 \n",
      " dense_3 (Dense)             (None, 3)                 153       \n",
      "                                                                 \n",
      "=================================================================\n",
      "Total params: 2,243,051\n",
      "Trainable params: 242,851\n",
      "Non-trainable params: 2,000,200\n",
      "_________________________________________________________________\n",
      "None\n"
     ]
    }
   ],
   "source": [
    "sequence_input = keras.Input(shape=(None,), dtype=\"int64\")\n",
    "embedded_sequences = embedding_layer(sequence_input)\n",
    "\n",
    "x = LSTM(lstm_dims, return_sequences=True,name='lstm_layer')(embedded_sequences)\n",
    "x = GlobalMaxPool1D()(x)\n",
    "x = Dropout(0.1)(x)\n",
    "x = Dense(50, activation=\"relu\")(x)\n",
    "x = Dropout(0.1)(x)\n",
    "preds = Dense(units = 3, activation=\"softmax\")(x)\n",
    "\n",
    "\n",
    "model = Model(sequence_input, preds)\n",
    "model.compile(loss = 'categorical_crossentropy', optimizer='adam', metrics = ['accuracy'])\n",
    "\n",
    "print(model.summary())"
   ]
  },
  {
   "cell_type": "code",
   "execution_count": 58,
   "id": "eac66bb2-51af-46cf-8a3d-61a05b044d2e",
   "metadata": {},
   "outputs": [
    {
     "name": "stdout",
     "output_type": "stream",
     "text": [
      "Epoch 1/4\n",
      "1097/1098 [============================>.] - ETA: 0s - loss: 0.6099 - accuracy: 0.7255\n",
      "Epoch 1: val_accuracy improved from -inf to 0.77709, saving model to /home/jupyter/data/dl_models/gru_glove_weights_best\n"
     ]
    },
    {
     "name": "stderr",
     "output_type": "stream",
     "text": [
      "WARNING:absl:Found untraced functions such as lstm_cell_1_layer_call_fn, lstm_cell_1_layer_call_and_return_conditional_losses while saving (showing 2 of 2). These functions will not be directly callable after loading.\n"
     ]
    },
    {
     "name": "stdout",
     "output_type": "stream",
     "text": [
      "INFO:tensorflow:Assets written to: /home/jupyter/data/dl_models/gru_glove_weights_best/assets\n"
     ]
    },
    {
     "name": "stderr",
     "output_type": "stream",
     "text": [
      "INFO:tensorflow:Assets written to: /home/jupyter/data/dl_models/gru_glove_weights_best/assets\n"
     ]
    },
    {
     "name": "stdout",
     "output_type": "stream",
     "text": [
      "1098/1098 [==============================] - 36s 31ms/step - loss: 0.6098 - accuracy: 0.7255 - val_loss: 0.5026 - val_accuracy: 0.7771\n",
      "Epoch 2/4\n",
      "1098/1098 [==============================] - ETA: 0s - loss: 0.4910 - accuracy: 0.7839\n",
      "Epoch 2: val_accuracy improved from 0.77709 to 0.78853, saving model to /home/jupyter/data/dl_models/gru_glove_weights_best\n"
     ]
    },
    {
     "name": "stderr",
     "output_type": "stream",
     "text": [
      "WARNING:absl:Found untraced functions such as lstm_cell_1_layer_call_fn, lstm_cell_1_layer_call_and_return_conditional_losses while saving (showing 2 of 2). These functions will not be directly callable after loading.\n"
     ]
    },
    {
     "name": "stdout",
     "output_type": "stream",
     "text": [
      "INFO:tensorflow:Assets written to: /home/jupyter/data/dl_models/gru_glove_weights_best/assets\n"
     ]
    },
    {
     "name": "stderr",
     "output_type": "stream",
     "text": [
      "INFO:tensorflow:Assets written to: /home/jupyter/data/dl_models/gru_glove_weights_best/assets\n"
     ]
    },
    {
     "name": "stdout",
     "output_type": "stream",
     "text": [
      "1098/1098 [==============================] - 36s 33ms/step - loss: 0.4910 - accuracy: 0.7839 - val_loss: 0.4812 - val_accuracy: 0.7885\n",
      "Epoch 3/4\n",
      "1095/1098 [============================>.] - ETA: 0s - loss: 0.4616 - accuracy: 0.7984\n",
      "Epoch 3: val_accuracy improved from 0.78853 to 0.79558, saving model to /home/jupyter/data/dl_models/gru_glove_weights_best\n"
     ]
    },
    {
     "name": "stderr",
     "output_type": "stream",
     "text": [
      "WARNING:absl:Found untraced functions such as lstm_cell_1_layer_call_fn, lstm_cell_1_layer_call_and_return_conditional_losses while saving (showing 2 of 2). These functions will not be directly callable after loading.\n"
     ]
    },
    {
     "name": "stdout",
     "output_type": "stream",
     "text": [
      "INFO:tensorflow:Assets written to: /home/jupyter/data/dl_models/gru_glove_weights_best/assets\n"
     ]
    },
    {
     "name": "stderr",
     "output_type": "stream",
     "text": [
      "INFO:tensorflow:Assets written to: /home/jupyter/data/dl_models/gru_glove_weights_best/assets\n"
     ]
    },
    {
     "name": "stdout",
     "output_type": "stream",
     "text": [
      "1098/1098 [==============================] - 36s 33ms/step - loss: 0.4615 - accuracy: 0.7984 - val_loss: 0.4706 - val_accuracy: 0.7956\n",
      "Epoch 4/4\n",
      "1097/1098 [============================>.] - ETA: 0s - loss: 0.4563 - accuracy: 0.8040\n",
      "Epoch 4: val_accuracy improved from 0.79558 to 0.80194, saving model to /home/jupyter/data/dl_models/gru_glove_weights_best\n"
     ]
    },
    {
     "name": "stderr",
     "output_type": "stream",
     "text": [
      "WARNING:absl:Found untraced functions such as lstm_cell_1_layer_call_fn, lstm_cell_1_layer_call_and_return_conditional_losses while saving (showing 2 of 2). These functions will not be directly callable after loading.\n"
     ]
    },
    {
     "name": "stdout",
     "output_type": "stream",
     "text": [
      "INFO:tensorflow:Assets written to: /home/jupyter/data/dl_models/gru_glove_weights_best/assets\n"
     ]
    },
    {
     "name": "stderr",
     "output_type": "stream",
     "text": [
      "INFO:tensorflow:Assets written to: /home/jupyter/data/dl_models/gru_glove_weights_best/assets\n"
     ]
    },
    {
     "name": "stdout",
     "output_type": "stream",
     "text": [
      "1098/1098 [==============================] - 34s 31ms/step - loss: 0.4563 - accuracy: 0.8040 - val_loss: 0.4567 - val_accuracy: 0.8019\n",
      "GRU Glove model train time = 142 seconds\n"
     ]
    }
   ],
   "source": [
    "filepath=\"/home/jupyter/data/dl_models/gru_glove_weights_best\"\n",
    "\n",
    "checkpoint = ModelCheckpoint(filepath, monitor='val_accuracy',\n",
    "                             verbose=1, save_best_only=True, save_weights_only=False, overwrite=True, mode='max')\n",
    "#only save model if it improves the accuracy\n",
    "\n",
    "callbacks_list = [checkpoint]\n",
    "\n",
    "t1 = time.time()\n",
    "history = model.fit(X_train, Y_train,\n",
    "                    batch_size=batch_size, \n",
    "                    epochs=num_epochs,\n",
    "                    validation_data=(X_test, Y_test),\n",
    "                    callbacks = callbacks_list,\n",
    "                    verbose=1)\n",
    "t2 = time.time()\n",
    "print(\"GRU Glove model train time = %d seconds\" %(t2-t1))\n",
    "\n",
    "GRU_glove_history = history"
   ]
  },
  {
   "cell_type": "code",
   "execution_count": 59,
   "id": "8269522c-1b6d-48e2-bd8c-ea3821476965",
   "metadata": {},
   "outputs": [
    {
     "name": "stdout",
     "output_type": "stream",
     "text": [
      "total 102984\n",
      "drwxr-xr-x 2 jupyter jupyter      4096 May 22 08:09 assets\n",
      "-rw-r--r-- 1 jupyter jupyter 104631092 May 24 23:14 keras_metadata.pb\n",
      "-rw-r--r-- 1 jupyter jupyter    812600 May 24 23:14 saved_model.pb\n",
      "drwxr-xr-x 2 jupyter jupyter      4096 May 24 23:14 variables\n"
     ]
    }
   ],
   "source": [
    "!ls -l \"/home/jupyter/data/dl_models/gru_glove_weights_best\""
   ]
  },
  {
   "cell_type": "code",
   "execution_count": 60,
   "id": "be22b17f-e6e9-45f2-9236-c35c6b667a3e",
   "metadata": {},
   "outputs": [
    {
     "data": {
      "text/plain": [
       "dict_keys(['loss', 'accuracy', 'val_loss', 'val_accuracy'])"
      ]
     },
     "execution_count": 60,
     "metadata": {},
     "output_type": "execute_result"
    }
   ],
   "source": [
    "history.history.keys()"
   ]
  },
  {
   "cell_type": "code",
   "execution_count": 61,
   "id": "32dcc3b0-6c5f-4529-b17a-23df59769b88",
   "metadata": {},
   "outputs": [
    {
     "name": "stdout",
     "output_type": "stream",
     "text": [
      "1082/1082 [==============================] - 5s 4ms/step\n"
     ]
    }
   ],
   "source": [
    "pred_model = model.predict(X_test)"
   ]
  },
  {
   "cell_type": "code",
   "execution_count": 63,
   "id": "5fa2af57-5576-4d87-9aa3-12907f805706",
   "metadata": {},
   "outputs": [],
   "source": [
    "pred_model_final = np.argmax(pred_model,axis=1)"
   ]
  },
  {
   "cell_type": "code",
   "execution_count": 65,
   "id": "b309b1cc-86b6-4ba0-a8bd-6fd7844cb7f0",
   "metadata": {},
   "outputs": [],
   "source": [
    "Y_test_max = np.argmax(Y_test,axis=1)"
   ]
  },
  {
   "cell_type": "code",
   "execution_count": 66,
   "id": "f4bf8097-bb2b-4b42-9f70-8b80d2891947",
   "metadata": {},
   "outputs": [],
   "source": [
    "from sklearn.metrics import accuracy_score, classification_report, confusion_matrix"
   ]
  },
  {
   "cell_type": "code",
   "execution_count": 67,
   "id": "b193fce8-1271-4eed-b4b6-70c52a3d7504",
   "metadata": {},
   "outputs": [
    {
     "data": {
      "text/plain": [
       "0.8019421404005664"
      ]
     },
     "execution_count": 67,
     "metadata": {},
     "output_type": "execute_result"
    }
   ],
   "source": [
    "accuracy_score(Y_test_max, pred_model_final)  "
   ]
  },
  {
   "cell_type": "code",
   "execution_count": 68,
   "id": "716b2862-df1d-417c-ba2f-c4b0fb328a20",
   "metadata": {},
   "outputs": [
    {
     "name": "stdout",
     "output_type": "stream",
     "text": [
      "[[ 4727   901   171]\n",
      " [ 1220  7297  3060]\n",
      " [   95  1406 15724]]\n"
     ]
    }
   ],
   "source": [
    "print(confusion_matrix(Y_test_max, pred_model_final))"
   ]
  },
  {
   "cell_type": "code",
   "execution_count": 69,
   "id": "8ee3f4c1-fdf1-49d3-bb56-5aa602c07e8c",
   "metadata": {},
   "outputs": [
    {
     "name": "stdout",
     "output_type": "stream",
     "text": [
      "              precision    recall  f1-score   support\n",
      "\n",
      "           0       0.78      0.82      0.80      5799\n",
      "           1       0.76      0.63      0.69     11577\n",
      "           2       0.83      0.91      0.87     17225\n",
      "\n",
      "    accuracy                           0.80     34601\n",
      "   macro avg       0.79      0.79      0.79     34601\n",
      "weighted avg       0.80      0.80      0.80     34601\n",
      "\n"
     ]
    }
   ],
   "source": [
    "print(classification_report(Y_test_max, pred_model_final))"
   ]
  },
  {
   "cell_type": "code",
   "execution_count": null,
   "id": "98f4a42f-8e65-4fcc-90b7-d70fd1df5af9",
   "metadata": {},
   "outputs": [],
   "source": []
  }
 ],
 "metadata": {
  "kernelspec": {
   "display_name": "TensorFlow 2 (Local)",
   "language": "python",
   "name": "local-tf2"
  },
  "language_info": {
   "codemirror_mode": {
    "name": "ipython",
    "version": 3
   },
   "file_extension": ".py",
   "mimetype": "text/x-python",
   "name": "python",
   "nbconvert_exporter": "python",
   "pygments_lexer": "ipython3",
   "version": "3.7.12"
  }
 },
 "nbformat": 4,
 "nbformat_minor": 5
}
