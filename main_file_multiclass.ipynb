{
 "cells": [
  {
   "cell_type": "code",
   "execution_count": 1,
   "id": "b20eaf79-4801-415f-90d6-a6fca9ade1fd",
   "metadata": {},
   "outputs": [],
   "source": [
    "import os\n",
    "import pandas as pd\n",
    "import numpy as np\n",
    "import matplotlib.pyplot as plt\n",
    "from sklearn.model_selection import train_test_split\n",
    "\n",
    "from sklearn.feature_extraction.text import CountVectorizer, HashingVectorizer, TfidfTransformer, TfidfVectorizer\n",
    "from sklearn.naive_bayes import MultinomialNB\n",
    "from sklearn.metrics import classification_report, confusion_matrix, accuracy_score\n",
    "from sklearn.linear_model import LogisticRegression, SGDClassifier\n",
    "from sklearn import metrics"
   ]
  },
  {
   "cell_type": "code",
   "execution_count": null,
   "id": "2f522e3e-cf72-47b8-9de4-a32c109db56c",
   "metadata": {},
   "outputs": [],
   "source": []
  },
  {
   "cell_type": "code",
   "execution_count": 2,
   "id": "1d90942b-1967-4ba4-a09c-578f7207d8b7",
   "metadata": {},
   "outputs": [],
   "source": [
    "mobile = pd.read_csv(\"gs://devdutt_bucket/amazon_reviews_us_Mobile_Electronics_v1.tsv\",\n",
    "                    sep = '\\t',\n",
    "                    on_bad_lines='skip',\n",
    "                    usecols = ['marketplace','product_category', 'star_rating', 'review_headline', 'review_body'])"
   ]
  },
  {
   "cell_type": "code",
   "execution_count": 3,
   "id": "a80c32c3-3f6a-4336-92d3-4e73a56d11ac",
   "metadata": {},
   "outputs": [
    {
     "data": {
      "text/html": [
       "<div>\n",
       "<style scoped>\n",
       "    .dataframe tbody tr th:only-of-type {\n",
       "        vertical-align: middle;\n",
       "    }\n",
       "\n",
       "    .dataframe tbody tr th {\n",
       "        vertical-align: top;\n",
       "    }\n",
       "\n",
       "    .dataframe thead th {\n",
       "        text-align: right;\n",
       "    }\n",
       "</style>\n",
       "<table border=\"1\" class=\"dataframe\">\n",
       "  <thead>\n",
       "    <tr style=\"text-align: right;\">\n",
       "      <th></th>\n",
       "      <th>marketplace</th>\n",
       "      <th>product_category</th>\n",
       "      <th>star_rating</th>\n",
       "      <th>review_headline</th>\n",
       "      <th>review_body</th>\n",
       "    </tr>\n",
       "  </thead>\n",
       "  <tbody>\n",
       "    <tr>\n",
       "      <th>104849</th>\n",
       "      <td>US</td>\n",
       "      <td>Mobile_Electronics</td>\n",
       "      <td>5.0</td>\n",
       "      <td>The Cat Barf is Gone!</td>\n",
       "      <td>I've been looking for a while for the \\\\\"purr\\...</td>\n",
       "    </tr>\n",
       "    <tr>\n",
       "      <th>104850</th>\n",
       "      <td>US</td>\n",
       "      <td>Mobile_Electronics</td>\n",
       "      <td>5.0</td>\n",
       "      <td>Well worth [it]</td>\n",
       "      <td>We live in an apartment with hardwood floors a...</td>\n",
       "    </tr>\n",
       "    <tr>\n",
       "      <th>104851</th>\n",
       "      <td>US</td>\n",
       "      <td>Mobile_Electronics</td>\n",
       "      <td>5.0</td>\n",
       "      <td>Its a Time saver!!!</td>\n",
       "      <td>I received this for a birthday present and Its...</td>\n",
       "    </tr>\n",
       "    <tr>\n",
       "      <th>104852</th>\n",
       "      <td>US</td>\n",
       "      <td>Mobile_Electronics</td>\n",
       "      <td>5.0</td>\n",
       "      <td>Got Stains?</td>\n",
       "      <td>I got the Dirt Devil Spot Scrubber for a gift ...</td>\n",
       "    </tr>\n",
       "    <tr>\n",
       "      <th>104853</th>\n",
       "      <td>US</td>\n",
       "      <td>Mobile_Electronics</td>\n",
       "      <td>4.0</td>\n",
       "      <td>no smell has to mean it is getting the job don...</td>\n",
       "      <td>I purchased this about three weeks ago along w...</td>\n",
       "    </tr>\n",
       "  </tbody>\n",
       "</table>\n",
       "</div>"
      ],
      "text/plain": [
       "       marketplace    product_category  star_rating  \\\n",
       "104849          US  Mobile_Electronics          5.0   \n",
       "104850          US  Mobile_Electronics          5.0   \n",
       "104851          US  Mobile_Electronics          5.0   \n",
       "104852          US  Mobile_Electronics          5.0   \n",
       "104853          US  Mobile_Electronics          4.0   \n",
       "\n",
       "                                          review_headline  \\\n",
       "104849                              The Cat Barf is Gone!   \n",
       "104850                                    Well worth [it]   \n",
       "104851                                Its a Time saver!!!   \n",
       "104852                                        Got Stains?   \n",
       "104853  no smell has to mean it is getting the job don...   \n",
       "\n",
       "                                              review_body  \n",
       "104849  I've been looking for a while for the \\\\\"purr\\...  \n",
       "104850  We live in an apartment with hardwood floors a...  \n",
       "104851  I received this for a birthday present and Its...  \n",
       "104852  I got the Dirt Devil Spot Scrubber for a gift ...  \n",
       "104853  I purchased this about three weeks ago along w...  "
      ]
     },
     "execution_count": 3,
     "metadata": {},
     "output_type": "execute_result"
    }
   ],
   "source": [
    "mobile.tail()"
   ]
  },
  {
   "cell_type": "code",
   "execution_count": 4,
   "id": "496cd6e6-5dfd-455e-80bb-0b7125368574",
   "metadata": {},
   "outputs": [
    {
     "data": {
      "text/plain": [
       "(104854, 5)"
      ]
     },
     "execution_count": 4,
     "metadata": {},
     "output_type": "execute_result"
    }
   ],
   "source": [
    "mobile.shape"
   ]
  },
  {
   "cell_type": "code",
   "execution_count": 5,
   "id": "a1364e9a-b415-41d8-ab1f-dcfc7142d841",
   "metadata": {},
   "outputs": [
    {
     "data": {
      "text/plain": [
       "marketplace          object\n",
       "product_category     object\n",
       "star_rating         float64\n",
       "review_headline      object\n",
       "review_body          object\n",
       "dtype: object"
      ]
     },
     "execution_count": 5,
     "metadata": {},
     "output_type": "execute_result"
    }
   ],
   "source": [
    "mobile.dtypes"
   ]
  },
  {
   "cell_type": "code",
   "execution_count": 6,
   "id": "b3a363d3-cfad-4e51-8255-689923156dc8",
   "metadata": {},
   "outputs": [
    {
     "data": {
      "text/plain": [
       "5.0    52199\n",
       "4.0    18063\n",
       "1.0    17572\n",
       "3.0     9720\n",
       "2.0     7298\n",
       "NaN        2\n",
       "Name: star_rating, dtype: int64"
      ]
     },
     "execution_count": 6,
     "metadata": {},
     "output_type": "execute_result"
    }
   ],
   "source": [
    "mobile['star_rating'].value_counts(dropna=False)"
   ]
  },
  {
   "cell_type": "code",
   "execution_count": 7,
   "id": "b85652ef-8544-4354-a417-b27a4be27b8c",
   "metadata": {},
   "outputs": [],
   "source": [
    "mobile.dropna(subset=['star_rating', 'review_headline', 'review_body'], inplace = True)"
   ]
  },
  {
   "cell_type": "code",
   "execution_count": 8,
   "id": "a7d62e4a-afd4-448c-a2a5-293251dfe16f",
   "metadata": {},
   "outputs": [
    {
     "data": {
      "text/plain": [
       "US    104849\n",
       "Name: marketplace, dtype: int64"
      ]
     },
     "execution_count": 8,
     "metadata": {},
     "output_type": "execute_result"
    }
   ],
   "source": [
    "mobile['marketplace'].value_counts(dropna=False)"
   ]
  },
  {
   "cell_type": "code",
   "execution_count": 9,
   "id": "fc8c7949-fa06-436c-aa5b-8adc64eafb1a",
   "metadata": {},
   "outputs": [
    {
     "data": {
      "text/plain": [
       "Mobile_Electronics    104849\n",
       "Name: product_category, dtype: int64"
      ]
     },
     "execution_count": 9,
     "metadata": {},
     "output_type": "execute_result"
    }
   ],
   "source": [
    "mobile['product_category'].value_counts(dropna=False)"
   ]
  },
  {
   "cell_type": "code",
   "execution_count": 10,
   "id": "eb3b5380-8ba3-42f5-937e-96f97bedee61",
   "metadata": {},
   "outputs": [],
   "source": [
    "mobile['star_rating'] = mobile['star_rating'].astype(int)"
   ]
  },
  {
   "cell_type": "code",
   "execution_count": 11,
   "id": "14d8e53a-b6e0-4f41-a737-ca4c8e263c44",
   "metadata": {},
   "outputs": [
    {
     "data": {
      "text/plain": [
       "5    52197\n",
       "4    18063\n",
       "1    17572\n",
       "3     9719\n",
       "2     7298\n",
       "Name: star_rating, dtype: int64"
      ]
     },
     "execution_count": 11,
     "metadata": {},
     "output_type": "execute_result"
    }
   ],
   "source": [
    "mobile['star_rating'].value_counts(dropna=False)"
   ]
  },
  {
   "cell_type": "code",
   "execution_count": 12,
   "id": "1a7c4a44-f274-442d-a88d-f9b06d3c68bf",
   "metadata": {},
   "outputs": [],
   "source": [
    "# mobile = mobile[(mobile['star_rating'] == 1) | (mobile['star_rating'] == 5)]"
   ]
  },
  {
   "cell_type": "code",
   "execution_count": 13,
   "id": "ef87f803-519c-4d6b-a18b-738f6802610e",
   "metadata": {},
   "outputs": [
    {
     "data": {
      "text/plain": [
       "5    52197\n",
       "4    18063\n",
       "1    17572\n",
       "3     9719\n",
       "2     7298\n",
       "Name: star_rating, dtype: int64"
      ]
     },
     "execution_count": 13,
     "metadata": {},
     "output_type": "execute_result"
    }
   ],
   "source": [
    "mobile['star_rating'].value_counts(dropna=False)"
   ]
  },
  {
   "cell_type": "code",
   "execution_count": 14,
   "id": "83bd8869-a92f-435e-85f9-d6e53daa73a6",
   "metadata": {},
   "outputs": [
    {
     "data": {
      "image/png": "[encoded data removed]",
      "text/plain": [
       "<Figure size 640x480 with 1 Axes>"
      ]
     },
     "metadata": {},
     "output_type": "display_data"
    }
   ],
   "source": [
    "plt.hist(mobile['star_rating'])\n",
    "plt.show()"
   ]
  },
  {
   "cell_type": "code",
   "execution_count": 15,
   "id": "c3475602-34ba-4ce8-8b98-89bd69918413",
   "metadata": {},
   "outputs": [],
   "source": [
    "mobile['sentiment'] = mobile['star_rating'].map({1:-1, 2:0,3:0,4:0, 5:1})"
   ]
  },
  {
   "cell_type": "code",
   "execution_count": 16,
   "id": "14da7976-2315-452e-8c7a-3c80e53aaea5",
   "metadata": {},
   "outputs": [
    {
     "data": {
      "text/plain": [
       " 1    52197\n",
       " 0    35080\n",
       "-1    17572\n",
       "Name: sentiment, dtype: int64"
      ]
     },
     "execution_count": 16,
     "metadata": {},
     "output_type": "execute_result"
    }
   ],
   "source": [
    "mobile['sentiment'].value_counts()"
   ]
  },
  {
   "cell_type": "code",
   "execution_count": 17,
   "id": "7fae79ae-4538-4610-ba10-60f14c1f7f57",
   "metadata": {},
   "outputs": [],
   "source": [
    "mobile['text'] = mobile['review_headline'] + \" \" + mobile['review_body']"
   ]
  },
  {
   "cell_type": "code",
   "execution_count": 18,
   "id": "64d23440-799a-4500-adb1-9dad06760ebd",
   "metadata": {},
   "outputs": [],
   "source": [
    "mobile = mobile[['text', 'sentiment']]"
   ]
  },
  {
   "cell_type": "code",
   "execution_count": 21,
   "id": "603cf178-087d-4c40-a80b-8409db07ed7d",
   "metadata": {},
   "outputs": [
    {
     "data": {
      "text/html": [
       "<div>\n",
       "<style scoped>\n",
       "    .dataframe tbody tr th:only-of-type {\n",
       "        vertical-align: middle;\n",
       "    }\n",
       "\n",
       "    .dataframe tbody tr th {\n",
       "        vertical-align: top;\n",
       "    }\n",
       "\n",
       "    .dataframe thead th {\n",
       "        text-align: right;\n",
       "    }\n",
       "</style>\n",
       "<table border=\"1\" class=\"dataframe\">\n",
       "  <thead>\n",
       "    <tr style=\"text-align: right;\">\n",
       "      <th></th>\n",
       "      <th>text</th>\n",
       "      <th>sentiment</th>\n",
       "    </tr>\n",
       "  </thead>\n",
       "  <tbody>\n",
       "    <tr>\n",
       "      <th>0</th>\n",
       "      <td>Very Happy! As advertised. Everything works pe...</td>\n",
       "      <td>1</td>\n",
       "    </tr>\n",
       "    <tr>\n",
       "      <th>1</th>\n",
       "      <td>five star it's great</td>\n",
       "      <td>1</td>\n",
       "    </tr>\n",
       "    <tr>\n",
       "      <th>2</th>\n",
       "      <td>great cables These work great and fit my life ...</td>\n",
       "      <td>1</td>\n",
       "    </tr>\n",
       "    <tr>\n",
       "      <th>3</th>\n",
       "      <td>Work very well but couldn't get used to not he...</td>\n",
       "      <td>0</td>\n",
       "    </tr>\n",
       "    <tr>\n",
       "      <th>4</th>\n",
       "      <td>Cameras has battery issues Be careful with the...</td>\n",
       "      <td>0</td>\n",
       "    </tr>\n",
       "  </tbody>\n",
       "</table>\n",
       "</div>"
      ],
      "text/plain": [
       "                                                text  sentiment\n",
       "0  Very Happy! As advertised. Everything works pe...          1\n",
       "1                               five star it's great          1\n",
       "2  great cables These work great and fit my life ...          1\n",
       "3  Work very well but couldn't get used to not he...          0\n",
       "4  Cameras has battery issues Be careful with the...          0"
      ]
     },
     "execution_count": 21,
     "metadata": {},
     "output_type": "execute_result"
    }
   ],
   "source": [
    "mobile.head()"
   ]
  },
  {
   "cell_type": "code",
   "execution_count": 24,
   "id": "d1ff938f-1570-426d-9d96-07c4b8e9a47f",
   "metadata": {},
   "outputs": [],
   "source": [
    "pd.set_option('display.max_rows', 200)\n",
    "pd.set_option('display.max_columns', None)\n",
    "pd.set_option('display.max_colwidth', 200)\n",
    "\n",
    "# pd.reset_option('^display.', silent=True)"
   ]
  },
  {
   "cell_type": "code",
   "execution_count": 29,
   "id": "9c7d8697-ac55-4f16-ad49-1e88619c4741",
   "metadata": {},
   "outputs": [
    {
     "name": "stdout",
     "output_type": "stream",
     "text": [
      "Collecting pandarallel\n",
      "  Using cached pandarallel-1.6.5-py3-none-any.whl\n",
      "Requirement already satisfied: pandas>=1 in /opt/conda/lib/python3.7/site-packages (from pandarallel) (1.3.5)\n",
      "Requirement already satisfied: psutil in /opt/conda/lib/python3.7/site-packages (from pandarallel) (5.9.3)\n",
      "Collecting dill>=0.3.1\n",
      "  Using cached dill-0.3.6-py3-none-any.whl (110 kB)\n",
      "Requirement already satisfied: pytz>=2017.3 in /opt/conda/lib/python3.7/site-packages (from pandas>=1->pandarallel) (2023.2)\n",
      "Requirement already satisfied: python-dateutil>=2.7.3 in /opt/conda/lib/python3.7/site-packages (from pandas>=1->pandarallel) (2.8.2)\n",
      "Requirement already satisfied: numpy>=1.17.3 in /opt/conda/lib/python3.7/site-packages (from pandas>=1->pandarallel) (1.21.6)\n",
      "Requirement already satisfied: six>=1.5 in /opt/conda/lib/python3.7/site-packages (from python-dateutil>=2.7.3->pandas>=1->pandarallel) (1.16.0)\n",
      "Installing collected packages: dill, pandarallel\n",
      "Successfully installed dill-0.3.6 pandarallel-1.6.5\n"
     ]
    }
   ],
   "source": [
    "!pip install pandarallel"
   ]
  },
  {
   "cell_type": "code",
   "execution_count": 30,
   "id": "362d1b2e-9a89-4e1f-b495-cd431f928325",
   "metadata": {},
   "outputs": [],
   "source": [
    "#import pandarallel"
   ]
  },
  {
   "cell_type": "code",
   "execution_count": 31,
   "id": "1ae96b78-5ab8-4404-92d3-66dcf7ad80c4",
   "metadata": {},
   "outputs": [
    {
     "name": "stdout",
     "output_type": "stream",
     "text": [
      "Available CPUs: 8\n"
     ]
    }
   ],
   "source": [
    "from pandarallel import pandarallel\n",
    "import multiprocessing\n",
    "num_processors = multiprocessing.cpu_count()\n",
    "workers = num_processors-1\n",
    "print(f'Available CPUs: {num_processors}')"
   ]
  },
  {
   "cell_type": "code",
   "execution_count": 32,
   "id": "a468c769-d726-4055-8154-3120609fd975",
   "metadata": {},
   "outputs": [
    {
     "name": "stdout",
     "output_type": "stream",
     "text": [
      "INFO: Pandarallel will run on 7 workers.\n",
      "INFO: Pandarallel will use standard multiprocessing data transfer (pipe) to transfer data between the main process and workers.\n"
     ]
    }
   ],
   "source": [
    "pandarallel.initialize(nb_workers=num_processors-1, use_memory_fs=False)"
   ]
  },
  {
   "cell_type": "code",
   "execution_count": 33,
   "id": "09755e5e-cb63-4736-a435-a2e8279af86c",
   "metadata": {},
   "outputs": [
    {
     "name": "stdout",
     "output_type": "stream",
     "text": [
      "CPU times: user 97 ms, sys: 195 ms, total: 292 ms\n",
      "Wall time: 439 ms\n"
     ]
    }
   ],
   "source": [
    "%%time\n",
    "\n",
    "mobile['text_length'] = mobile['text'].parallel_apply(lambda x: len(x.split()))"
   ]
  },
  {
   "cell_type": "code",
   "execution_count": 34,
   "id": "78b2d01f-ac4c-4a1f-b29d-3ad5da6fb6a2",
   "metadata": {},
   "outputs": [
    {
     "data": {
      "image/png": "[encoded data removed]",
      "text/plain": [
       "<Figure size 640x480 with 1 Axes>"
      ]
     },
     "metadata": {},
     "output_type": "display_data"
    }
   ],
   "source": [
    "plt.hist(mobile['text_length'], color = \"orange\", log=True)\n",
    "\n",
    "plt.show()"
   ]
  },
  {
   "cell_type": "code",
   "execution_count": 39,
   "id": "d86e71de-ca0b-4d17-a17a-e86131792b32",
   "metadata": {},
   "outputs": [],
   "source": [
    "mobile.to_csv('mobile__multi_sent.csv', index=False)"
   ]
  },
  {
   "cell_type": "code",
   "execution_count": 40,
   "id": "5c47a9c0-06d4-448c-a28d-d029498389fe",
   "metadata": {},
   "outputs": [
    {
     "name": "stdout",
     "output_type": "stream",
     "text": [
      "X Shape: (104849,)\n",
      "y Shape: (104849,)\n"
     ]
    }
   ],
   "source": [
    "# define X and y\n",
    "X = mobile['text']\n",
    "y = mobile['sentiment']\n",
    "\n",
    "print(f\"X Shape: {X.shape}\")\n",
    "print(f\"y Shape: {y.shape}\")"
   ]
  },
  {
   "cell_type": "code",
   "execution_count": 41,
   "id": "2825188a-acab-4e28-9b84-ac96400456a7",
   "metadata": {},
   "outputs": [
    {
     "name": "stdout",
     "output_type": "stream",
     "text": [
      "Training records: \n",
      " X_train: (78636,) \n",
      " y_train: (78636,)\n",
      "Testing records: \n",
      "  X_test: (26213,) \n",
      " y_test: (26213,)\n"
     ]
    }
   ],
   "source": [
    "# split X and y into training and testing sets\n",
    "X_train, X_test, y_train, y_test = train_test_split(X, y, random_state=1)\n",
    "\n",
    "print(f\"Training records: \\n X_train: {X_train.shape} \\n y_train: {y_train.shape}\")\n",
    "print(f\"Testing records: \\n  X_test: {X_test.shape} \\n y_test: {y_test.shape}\")"
   ]
  },
  {
   "cell_type": "code",
   "execution_count": 42,
   "id": "b1a39d10-cafc-4b3b-b308-8565790cf5c3",
   "metadata": {},
   "outputs": [],
   "source": [
    "vect = CountVectorizer(stop_words='english')"
   ]
  },
  {
   "cell_type": "markdown",
   "id": "0f461e24-707a-4c5e-82d8-100c0d7cd882",
   "metadata": {},
   "source": [
    "### Base Model (Naive Bayes)"
   ]
  },
  {
   "cell_type": "code",
   "execution_count": 43,
   "id": "d7a086dc-2943-4812-ad4b-5981ff0ec23b",
   "metadata": {},
   "outputs": [],
   "source": [
    "# instantiate a Multinomial Naive Bayes model\n",
    "nb = MultinomialNB()"
   ]
  },
  {
   "cell_type": "code",
   "execution_count": 44,
   "id": "88284e5e-33d8-4001-9380-02af57c4ebd3",
   "metadata": {},
   "outputs": [
    {
     "name": "stdout",
     "output_type": "stream",
     "text": [
      "CPU times: user 4 µs, sys: 1 µs, total: 5 µs\n",
      "Wall time: 10.7 µs\n"
     ]
    },
    {
     "data": {
      "text/plain": [
       "MultinomialNB()"
      ]
     },
     "execution_count": 44,
     "metadata": {},
     "output_type": "execute_result"
    }
   ],
   "source": [
    "%time\n",
    "\n",
    "nb.fit(vect.fit_transform(X_train), y_train)"
   ]
  },
  {
   "cell_type": "code",
   "execution_count": 45,
   "id": "b35fb678-4651-4ff6-9f63-d059caae6952",
   "metadata": {},
   "outputs": [],
   "source": [
    "# make class predictions\n",
    "y_pred = nb.predict(vect.transform(X_test))"
   ]
  },
  {
   "cell_type": "code",
   "execution_count": 46,
   "id": "5c126b7c-4cea-4852-a832-17521f90f03f",
   "metadata": {},
   "outputs": [
    {
     "name": "stdout",
     "output_type": "stream",
     "text": [
      "Test Accuracy: 72.1%\n"
     ]
    }
   ],
   "source": [
    "# calculate accuracy of class predictions\n",
    "print(f\"Test Accuracy: {metrics.accuracy_score(y_test, y_pred) * 100:.1f}%\")"
   ]
  },
  {
   "cell_type": "code",
   "execution_count": 47,
   "id": "caf959db-5cd5-462f-a5e9-4bc676cd46e4",
   "metadata": {},
   "outputs": [
    {
     "name": "stdout",
     "output_type": "stream",
     "text": [
      "              precision    recall  f1-score   support\n",
      "\n",
      "          -1       0.73      0.73      0.73      4390\n",
      "           0       0.64      0.52      0.57      8850\n",
      "           1       0.76      0.86      0.81     12973\n",
      "\n",
      "    accuracy                           0.72     26213\n",
      "   macro avg       0.71      0.70      0.70     26213\n",
      "weighted avg       0.71      0.72      0.71     26213\n",
      "\n"
     ]
    }
   ],
   "source": [
    "# calculate precision and recall\n",
    "print(classification_report(y_test, y_pred))"
   ]
  },
  {
   "cell_type": "code",
   "execution_count": 48,
   "id": "77785149-52e7-44df-97e6-e0560e2b6328",
   "metadata": {},
   "outputs": [
    {
     "name": "stdout",
     "output_type": "stream",
     "text": [
      "[[ 3214   963   213]\n",
      " [  978  4596  3276]\n",
      " [  219  1656 11098]]\n"
     ]
    }
   ],
   "source": [
    "# calculate the confusion matrix\n",
    "print(metrics.confusion_matrix(y_test, y_pred))"
   ]
  }
 ],
 "metadata": {
  "kernelspec": {
   "display_name": "Python (Local)",
   "language": "python",
   "name": "local-base"
  },
  "language_info": {
   "codemirror_mode": {
    "name": "ipython",
    "version": 3
   },
   "file_extension": ".py",
   "mimetype": "text/x-python",
   "name": "python",
   "nbconvert_exporter": "python",
   "pygments_lexer": "ipython3",
   "version": "3.7.12"
  }
 },
 "nbformat": 4,
 "nbformat_minor": 5
}
